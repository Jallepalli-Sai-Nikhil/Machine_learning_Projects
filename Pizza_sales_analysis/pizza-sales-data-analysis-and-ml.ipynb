{
 "cells": [
  {
   "cell_type": "code",
   "execution_count": 1,
   "id": "46af021a",
   "metadata": {
    "execution": {
     "iopub.execute_input": "2023-10-16T17:30:36.838484Z",
     "iopub.status.busy": "2023-10-16T17:30:36.838078Z",
     "iopub.status.idle": "2023-10-16T17:30:38.663234Z",
     "shell.execute_reply": "2023-10-16T17:30:38.662323Z"
    },
    "papermill": {
     "duration": 1.837698,
     "end_time": "2023-10-16T17:30:38.665689",
     "exception": false,
     "start_time": "2023-10-16T17:30:36.827991",
     "status": "completed"
    },
    "tags": []
   },
   "outputs": [],
   "source": [
    "import numpy as np\n",
    "import pandas as pd\n",
    "import matplotlib.pyplot as plt\n",
    "import seaborn as sns"
   ]
  },
  {
   "cell_type": "markdown",
   "id": "d0d2d2ff",
   "metadata": {
    "papermill": {
     "duration": 0.007674,
     "end_time": "2023-10-16T17:30:38.681892",
     "exception": false,
     "start_time": "2023-10-16T17:30:38.674218",
     "status": "completed"
    },
    "tags": []
   },
   "source": [
    "# Data Loading"
   ]
  },
  {
   "cell_type": "code",
   "execution_count": 2,
   "id": "091233ea",
   "metadata": {
    "execution": {
     "iopub.execute_input": "2023-10-16T17:30:38.699110Z",
     "iopub.status.busy": "2023-10-16T17:30:38.698606Z",
     "iopub.status.idle": "2023-10-16T17:30:38.816895Z",
     "shell.execute_reply": "2023-10-16T17:30:38.815364Z"
    },
    "papermill": {
     "duration": 0.130022,
     "end_time": "2023-10-16T17:30:38.819727",
     "exception": false,
     "start_time": "2023-10-16T17:30:38.689705",
     "status": "completed"
    },
    "tags": []
   },
   "outputs": [],
   "source": [
    "orders = pd.read_csv(\"/kaggle/input/pizza-place-sales/orders.csv\",encoding='latin-1')\n",
    "orders_details = pd.read_csv(\"/kaggle/input/pizza-place-sales/order_details.csv\",encoding='latin-1')\n",
    "pizzas = pd.read_csv(\"/kaggle/input/pizza-place-sales/pizzas.csv\",encoding='latin-1')\n",
    "pizza_types = pd.read_csv(\"/kaggle/input/pizza-place-sales/pizza_types.csv\",encoding='latin-1')"
   ]
  },
  {
   "cell_type": "markdown",
   "id": "4883438f",
   "metadata": {
    "papermill": {
     "duration": 0.007594,
     "end_time": "2023-10-16T17:30:38.835451",
     "exception": false,
     "start_time": "2023-10-16T17:30:38.827857",
     "status": "completed"
    },
    "tags": []
   },
   "source": [
    "# Data Understanding"
   ]
  },
  {
   "cell_type": "code",
   "execution_count": 3,
   "id": "84c249ed",
   "metadata": {
    "execution": {
     "iopub.execute_input": "2023-10-16T17:30:38.853055Z",
     "iopub.status.busy": "2023-10-16T17:30:38.852712Z",
     "iopub.status.idle": "2023-10-16T17:30:38.873212Z",
     "shell.execute_reply": "2023-10-16T17:30:38.872206Z"
    },
    "papermill": {
     "duration": 0.031864,
     "end_time": "2023-10-16T17:30:38.875462",
     "exception": false,
     "start_time": "2023-10-16T17:30:38.843598",
     "status": "completed"
    },
    "tags": []
   },
   "outputs": [
    {
     "data": {
      "text/html": [
       "<div>\n",
       "<style scoped>\n",
       "    .dataframe tbody tr th:only-of-type {\n",
       "        vertical-align: middle;\n",
       "    }\n",
       "\n",
       "    .dataframe tbody tr th {\n",
       "        vertical-align: top;\n",
       "    }\n",
       "\n",
       "    .dataframe thead th {\n",
       "        text-align: right;\n",
       "    }\n",
       "</style>\n",
       "<table border=\"1\" class=\"dataframe\">\n",
       "  <thead>\n",
       "    <tr style=\"text-align: right;\">\n",
       "      <th></th>\n",
       "      <th>order_id</th>\n",
       "      <th>date</th>\n",
       "      <th>time</th>\n",
       "    </tr>\n",
       "  </thead>\n",
       "  <tbody>\n",
       "    <tr>\n",
       "      <th>0</th>\n",
       "      <td>1</td>\n",
       "      <td>2015-01-01</td>\n",
       "      <td>11:38:36</td>\n",
       "    </tr>\n",
       "    <tr>\n",
       "      <th>1</th>\n",
       "      <td>2</td>\n",
       "      <td>2015-01-01</td>\n",
       "      <td>11:57:40</td>\n",
       "    </tr>\n",
       "    <tr>\n",
       "      <th>2</th>\n",
       "      <td>3</td>\n",
       "      <td>2015-01-01</td>\n",
       "      <td>12:12:28</td>\n",
       "    </tr>\n",
       "    <tr>\n",
       "      <th>3</th>\n",
       "      <td>4</td>\n",
       "      <td>2015-01-01</td>\n",
       "      <td>12:16:31</td>\n",
       "    </tr>\n",
       "    <tr>\n",
       "      <th>4</th>\n",
       "      <td>5</td>\n",
       "      <td>2015-01-01</td>\n",
       "      <td>12:21:30</td>\n",
       "    </tr>\n",
       "    <tr>\n",
       "      <th>5</th>\n",
       "      <td>6</td>\n",
       "      <td>2015-01-01</td>\n",
       "      <td>12:29:36</td>\n",
       "    </tr>\n",
       "    <tr>\n",
       "      <th>6</th>\n",
       "      <td>7</td>\n",
       "      <td>2015-01-01</td>\n",
       "      <td>12:50:37</td>\n",
       "    </tr>\n",
       "    <tr>\n",
       "      <th>7</th>\n",
       "      <td>8</td>\n",
       "      <td>2015-01-01</td>\n",
       "      <td>12:51:37</td>\n",
       "    </tr>\n",
       "    <tr>\n",
       "      <th>8</th>\n",
       "      <td>9</td>\n",
       "      <td>2015-01-01</td>\n",
       "      <td>12:52:01</td>\n",
       "    </tr>\n",
       "    <tr>\n",
       "      <th>9</th>\n",
       "      <td>10</td>\n",
       "      <td>2015-01-01</td>\n",
       "      <td>13:00:15</td>\n",
       "    </tr>\n",
       "  </tbody>\n",
       "</table>\n",
       "</div>"
      ],
      "text/plain": [
       "   order_id        date      time\n",
       "0         1  2015-01-01  11:38:36\n",
       "1         2  2015-01-01  11:57:40\n",
       "2         3  2015-01-01  12:12:28\n",
       "3         4  2015-01-01  12:16:31\n",
       "4         5  2015-01-01  12:21:30\n",
       "5         6  2015-01-01  12:29:36\n",
       "6         7  2015-01-01  12:50:37\n",
       "7         8  2015-01-01  12:51:37\n",
       "8         9  2015-01-01  12:52:01\n",
       "9        10  2015-01-01  13:00:15"
      ]
     },
     "execution_count": 3,
     "metadata": {},
     "output_type": "execute_result"
    }
   ],
   "source": [
    "orders.head(10)"
   ]
  },
  {
   "cell_type": "code",
   "execution_count": 4,
   "id": "b93489ef",
   "metadata": {
    "execution": {
     "iopub.execute_input": "2023-10-16T17:30:38.893947Z",
     "iopub.status.busy": "2023-10-16T17:30:38.893568Z",
     "iopub.status.idle": "2023-10-16T17:30:38.978543Z",
     "shell.execute_reply": "2023-10-16T17:30:38.977740Z"
    },
    "papermill": {
     "duration": 0.09667,
     "end_time": "2023-10-16T17:30:38.980438",
     "exception": false,
     "start_time": "2023-10-16T17:30:38.883768",
     "status": "completed"
    },
    "tags": []
   },
   "outputs": [
    {
     "data": {
      "text/html": [
       "<div>\n",
       "<style scoped>\n",
       "    .dataframe tbody tr th:only-of-type {\n",
       "        vertical-align: middle;\n",
       "    }\n",
       "\n",
       "    .dataframe tbody tr th {\n",
       "        vertical-align: top;\n",
       "    }\n",
       "\n",
       "    .dataframe thead th {\n",
       "        text-align: right;\n",
       "    }\n",
       "</style>\n",
       "<table border=\"1\" class=\"dataframe\">\n",
       "  <thead>\n",
       "    <tr style=\"text-align: right;\">\n",
       "      <th></th>\n",
       "      <th>order_id</th>\n",
       "      <th>date</th>\n",
       "      <th>time</th>\n",
       "      <th>order_details_id</th>\n",
       "      <th>pizza_id</th>\n",
       "      <th>quantity</th>\n",
       "      <th>pizza_type_id</th>\n",
       "      <th>size</th>\n",
       "      <th>price</th>\n",
       "      <th>name</th>\n",
       "      <th>category</th>\n",
       "      <th>ingredients</th>\n",
       "    </tr>\n",
       "  </thead>\n",
       "  <tbody>\n",
       "    <tr>\n",
       "      <th>0</th>\n",
       "      <td>1</td>\n",
       "      <td>2015-01-01</td>\n",
       "      <td>11:38:36</td>\n",
       "      <td>1</td>\n",
       "      <td>hawaiian_m</td>\n",
       "      <td>1</td>\n",
       "      <td>hawaiian</td>\n",
       "      <td>M</td>\n",
       "      <td>13.25</td>\n",
       "      <td>The Hawaiian Pizza</td>\n",
       "      <td>Classic</td>\n",
       "      <td>Sliced Ham, Pineapple, Mozzarella Cheese</td>\n",
       "    </tr>\n",
       "    <tr>\n",
       "      <th>1</th>\n",
       "      <td>77</td>\n",
       "      <td>2015-01-02</td>\n",
       "      <td>12:22:46</td>\n",
       "      <td>179</td>\n",
       "      <td>hawaiian_m</td>\n",
       "      <td>1</td>\n",
       "      <td>hawaiian</td>\n",
       "      <td>M</td>\n",
       "      <td>13.25</td>\n",
       "      <td>The Hawaiian Pizza</td>\n",
       "      <td>Classic</td>\n",
       "      <td>Sliced Ham, Pineapple, Mozzarella Cheese</td>\n",
       "    </tr>\n",
       "    <tr>\n",
       "      <th>2</th>\n",
       "      <td>146</td>\n",
       "      <td>2015-01-03</td>\n",
       "      <td>14:22:10</td>\n",
       "      <td>357</td>\n",
       "      <td>hawaiian_m</td>\n",
       "      <td>1</td>\n",
       "      <td>hawaiian</td>\n",
       "      <td>M</td>\n",
       "      <td>13.25</td>\n",
       "      <td>The Hawaiian Pizza</td>\n",
       "      <td>Classic</td>\n",
       "      <td>Sliced Ham, Pineapple, Mozzarella Cheese</td>\n",
       "    </tr>\n",
       "    <tr>\n",
       "      <th>3</th>\n",
       "      <td>163</td>\n",
       "      <td>2015-01-03</td>\n",
       "      <td>16:54:54</td>\n",
       "      <td>389</td>\n",
       "      <td>hawaiian_m</td>\n",
       "      <td>1</td>\n",
       "      <td>hawaiian</td>\n",
       "      <td>M</td>\n",
       "      <td>13.25</td>\n",
       "      <td>The Hawaiian Pizza</td>\n",
       "      <td>Classic</td>\n",
       "      <td>Sliced Ham, Pineapple, Mozzarella Cheese</td>\n",
       "    </tr>\n",
       "    <tr>\n",
       "      <th>4</th>\n",
       "      <td>247</td>\n",
       "      <td>2015-01-04</td>\n",
       "      <td>20:55:29</td>\n",
       "      <td>568</td>\n",
       "      <td>hawaiian_m</td>\n",
       "      <td>1</td>\n",
       "      <td>hawaiian</td>\n",
       "      <td>M</td>\n",
       "      <td>13.25</td>\n",
       "      <td>The Hawaiian Pizza</td>\n",
       "      <td>Classic</td>\n",
       "      <td>Sliced Ham, Pineapple, Mozzarella Cheese</td>\n",
       "    </tr>\n",
       "    <tr>\n",
       "      <th>...</th>\n",
       "      <td>...</td>\n",
       "      <td>...</td>\n",
       "      <td>...</td>\n",
       "      <td>...</td>\n",
       "      <td>...</td>\n",
       "      <td>...</td>\n",
       "      <td>...</td>\n",
       "      <td>...</td>\n",
       "      <td>...</td>\n",
       "      <td>...</td>\n",
       "      <td>...</td>\n",
       "      <td>...</td>\n",
       "    </tr>\n",
       "    <tr>\n",
       "      <th>48615</th>\n",
       "      <td>21167</td>\n",
       "      <td>2015-12-27</td>\n",
       "      <td>17:39:57</td>\n",
       "      <td>48176</td>\n",
       "      <td>brie_carre_s</td>\n",
       "      <td>1</td>\n",
       "      <td>brie_carre</td>\n",
       "      <td>S</td>\n",
       "      <td>23.65</td>\n",
       "      <td>The Brie Carre Pizza</td>\n",
       "      <td>Supreme</td>\n",
       "      <td>Brie Carre Cheese, Prosciutto, Caramelized Oni...</td>\n",
       "    </tr>\n",
       "    <tr>\n",
       "      <th>48616</th>\n",
       "      <td>21198</td>\n",
       "      <td>2015-12-28</td>\n",
       "      <td>15:39:02</td>\n",
       "      <td>48244</td>\n",
       "      <td>brie_carre_s</td>\n",
       "      <td>1</td>\n",
       "      <td>brie_carre</td>\n",
       "      <td>S</td>\n",
       "      <td>23.65</td>\n",
       "      <td>The Brie Carre Pizza</td>\n",
       "      <td>Supreme</td>\n",
       "      <td>Brie Carre Cheese, Prosciutto, Caramelized Oni...</td>\n",
       "    </tr>\n",
       "    <tr>\n",
       "      <th>48617</th>\n",
       "      <td>21225</td>\n",
       "      <td>2015-12-29</td>\n",
       "      <td>13:20:17</td>\n",
       "      <td>48311</td>\n",
       "      <td>brie_carre_s</td>\n",
       "      <td>1</td>\n",
       "      <td>brie_carre</td>\n",
       "      <td>S</td>\n",
       "      <td>23.65</td>\n",
       "      <td>The Brie Carre Pizza</td>\n",
       "      <td>Supreme</td>\n",
       "      <td>Brie Carre Cheese, Prosciutto, Caramelized Oni...</td>\n",
       "    </tr>\n",
       "    <tr>\n",
       "      <th>48618</th>\n",
       "      <td>21282</td>\n",
       "      <td>2015-12-31</td>\n",
       "      <td>12:09:59</td>\n",
       "      <td>48456</td>\n",
       "      <td>brie_carre_s</td>\n",
       "      <td>1</td>\n",
       "      <td>brie_carre</td>\n",
       "      <td>S</td>\n",
       "      <td>23.65</td>\n",
       "      <td>The Brie Carre Pizza</td>\n",
       "      <td>Supreme</td>\n",
       "      <td>Brie Carre Cheese, Prosciutto, Caramelized Oni...</td>\n",
       "    </tr>\n",
       "    <tr>\n",
       "      <th>48619</th>\n",
       "      <td>21308</td>\n",
       "      <td>2015-12-31</td>\n",
       "      <td>16:44:35</td>\n",
       "      <td>48527</td>\n",
       "      <td>brie_carre_s</td>\n",
       "      <td>1</td>\n",
       "      <td>brie_carre</td>\n",
       "      <td>S</td>\n",
       "      <td>23.65</td>\n",
       "      <td>The Brie Carre Pizza</td>\n",
       "      <td>Supreme</td>\n",
       "      <td>Brie Carre Cheese, Prosciutto, Caramelized Oni...</td>\n",
       "    </tr>\n",
       "  </tbody>\n",
       "</table>\n",
       "<p>48620 rows × 12 columns</p>\n",
       "</div>"
      ],
      "text/plain": [
       "       order_id        date      time  order_details_id      pizza_id  \\\n",
       "0             1  2015-01-01  11:38:36                 1    hawaiian_m   \n",
       "1            77  2015-01-02  12:22:46               179    hawaiian_m   \n",
       "2           146  2015-01-03  14:22:10               357    hawaiian_m   \n",
       "3           163  2015-01-03  16:54:54               389    hawaiian_m   \n",
       "4           247  2015-01-04  20:55:29               568    hawaiian_m   \n",
       "...         ...         ...       ...               ...           ...   \n",
       "48615     21167  2015-12-27  17:39:57             48176  brie_carre_s   \n",
       "48616     21198  2015-12-28  15:39:02             48244  brie_carre_s   \n",
       "48617     21225  2015-12-29  13:20:17             48311  brie_carre_s   \n",
       "48618     21282  2015-12-31  12:09:59             48456  brie_carre_s   \n",
       "48619     21308  2015-12-31  16:44:35             48527  brie_carre_s   \n",
       "\n",
       "       quantity pizza_type_id size  price                  name category  \\\n",
       "0             1      hawaiian    M  13.25    The Hawaiian Pizza  Classic   \n",
       "1             1      hawaiian    M  13.25    The Hawaiian Pizza  Classic   \n",
       "2             1      hawaiian    M  13.25    The Hawaiian Pizza  Classic   \n",
       "3             1      hawaiian    M  13.25    The Hawaiian Pizza  Classic   \n",
       "4             1      hawaiian    M  13.25    The Hawaiian Pizza  Classic   \n",
       "...         ...           ...  ...    ...                   ...      ...   \n",
       "48615         1    brie_carre    S  23.65  The Brie Carre Pizza  Supreme   \n",
       "48616         1    brie_carre    S  23.65  The Brie Carre Pizza  Supreme   \n",
       "48617         1    brie_carre    S  23.65  The Brie Carre Pizza  Supreme   \n",
       "48618         1    brie_carre    S  23.65  The Brie Carre Pizza  Supreme   \n",
       "48619         1    brie_carre    S  23.65  The Brie Carre Pizza  Supreme   \n",
       "\n",
       "                                             ingredients  \n",
       "0               Sliced Ham, Pineapple, Mozzarella Cheese  \n",
       "1               Sliced Ham, Pineapple, Mozzarella Cheese  \n",
       "2               Sliced Ham, Pineapple, Mozzarella Cheese  \n",
       "3               Sliced Ham, Pineapple, Mozzarella Cheese  \n",
       "4               Sliced Ham, Pineapple, Mozzarella Cheese  \n",
       "...                                                  ...  \n",
       "48615  Brie Carre Cheese, Prosciutto, Caramelized Oni...  \n",
       "48616  Brie Carre Cheese, Prosciutto, Caramelized Oni...  \n",
       "48617  Brie Carre Cheese, Prosciutto, Caramelized Oni...  \n",
       "48618  Brie Carre Cheese, Prosciutto, Caramelized Oni...  \n",
       "48619  Brie Carre Cheese, Prosciutto, Caramelized Oni...  \n",
       "\n",
       "[48620 rows x 12 columns]"
      ]
     },
     "execution_count": 4,
     "metadata": {},
     "output_type": "execute_result"
    }
   ],
   "source": [
    "# Join the tables based on the provided data dictionary\n",
    "merged_data = pd.merge(orders, orders_details, on='order_id')\n",
    "merged_data = pd.merge(merged_data, pizzas, on='pizza_id')\n",
    "merged_data = pd.merge(merged_data, pizza_types, on='pizza_type_id')\n",
    "merged_data"
   ]
  },
  {
   "cell_type": "code",
   "execution_count": 5,
   "id": "7ff64e7b",
   "metadata": {
    "execution": {
     "iopub.execute_input": "2023-10-16T17:30:39.000011Z",
     "iopub.status.busy": "2023-10-16T17:30:38.999202Z",
     "iopub.status.idle": "2023-10-16T17:30:39.002876Z",
     "shell.execute_reply": "2023-10-16T17:30:39.002211Z"
    },
    "papermill": {
     "duration": 0.015993,
     "end_time": "2023-10-16T17:30:39.004894",
     "exception": false,
     "start_time": "2023-10-16T17:30:38.988901",
     "status": "completed"
    },
    "tags": []
   },
   "outputs": [],
   "source": [
    "df = merged_data"
   ]
  },
  {
   "cell_type": "code",
   "execution_count": 6,
   "id": "beb7afe5",
   "metadata": {
    "execution": {
     "iopub.execute_input": "2023-10-16T17:30:39.023866Z",
     "iopub.status.busy": "2023-10-16T17:30:39.023328Z",
     "iopub.status.idle": "2023-10-16T17:30:39.038800Z",
     "shell.execute_reply": "2023-10-16T17:30:39.037499Z"
    },
    "papermill": {
     "duration": 0.027666,
     "end_time": "2023-10-16T17:30:39.041092",
     "exception": false,
     "start_time": "2023-10-16T17:30:39.013426",
     "status": "completed"
    },
    "tags": []
   },
   "outputs": [
    {
     "data": {
      "text/html": [
       "<div>\n",
       "<style scoped>\n",
       "    .dataframe tbody tr th:only-of-type {\n",
       "        vertical-align: middle;\n",
       "    }\n",
       "\n",
       "    .dataframe tbody tr th {\n",
       "        vertical-align: top;\n",
       "    }\n",
       "\n",
       "    .dataframe thead th {\n",
       "        text-align: right;\n",
       "    }\n",
       "</style>\n",
       "<table border=\"1\" class=\"dataframe\">\n",
       "  <thead>\n",
       "    <tr style=\"text-align: right;\">\n",
       "      <th></th>\n",
       "      <th>order_id</th>\n",
       "      <th>date</th>\n",
       "      <th>time</th>\n",
       "      <th>order_details_id</th>\n",
       "      <th>pizza_id</th>\n",
       "      <th>quantity</th>\n",
       "      <th>pizza_type_id</th>\n",
       "      <th>size</th>\n",
       "      <th>price</th>\n",
       "      <th>name</th>\n",
       "      <th>category</th>\n",
       "      <th>ingredients</th>\n",
       "    </tr>\n",
       "  </thead>\n",
       "  <tbody>\n",
       "    <tr>\n",
       "      <th>0</th>\n",
       "      <td>1</td>\n",
       "      <td>2015-01-01</td>\n",
       "      <td>11:38:36</td>\n",
       "      <td>1</td>\n",
       "      <td>hawaiian_m</td>\n",
       "      <td>1</td>\n",
       "      <td>hawaiian</td>\n",
       "      <td>M</td>\n",
       "      <td>13.25</td>\n",
       "      <td>The Hawaiian Pizza</td>\n",
       "      <td>Classic</td>\n",
       "      <td>Sliced Ham, Pineapple, Mozzarella Cheese</td>\n",
       "    </tr>\n",
       "    <tr>\n",
       "      <th>1</th>\n",
       "      <td>77</td>\n",
       "      <td>2015-01-02</td>\n",
       "      <td>12:22:46</td>\n",
       "      <td>179</td>\n",
       "      <td>hawaiian_m</td>\n",
       "      <td>1</td>\n",
       "      <td>hawaiian</td>\n",
       "      <td>M</td>\n",
       "      <td>13.25</td>\n",
       "      <td>The Hawaiian Pizza</td>\n",
       "      <td>Classic</td>\n",
       "      <td>Sliced Ham, Pineapple, Mozzarella Cheese</td>\n",
       "    </tr>\n",
       "    <tr>\n",
       "      <th>2</th>\n",
       "      <td>146</td>\n",
       "      <td>2015-01-03</td>\n",
       "      <td>14:22:10</td>\n",
       "      <td>357</td>\n",
       "      <td>hawaiian_m</td>\n",
       "      <td>1</td>\n",
       "      <td>hawaiian</td>\n",
       "      <td>M</td>\n",
       "      <td>13.25</td>\n",
       "      <td>The Hawaiian Pizza</td>\n",
       "      <td>Classic</td>\n",
       "      <td>Sliced Ham, Pineapple, Mozzarella Cheese</td>\n",
       "    </tr>\n",
       "    <tr>\n",
       "      <th>3</th>\n",
       "      <td>163</td>\n",
       "      <td>2015-01-03</td>\n",
       "      <td>16:54:54</td>\n",
       "      <td>389</td>\n",
       "      <td>hawaiian_m</td>\n",
       "      <td>1</td>\n",
       "      <td>hawaiian</td>\n",
       "      <td>M</td>\n",
       "      <td>13.25</td>\n",
       "      <td>The Hawaiian Pizza</td>\n",
       "      <td>Classic</td>\n",
       "      <td>Sliced Ham, Pineapple, Mozzarella Cheese</td>\n",
       "    </tr>\n",
       "    <tr>\n",
       "      <th>4</th>\n",
       "      <td>247</td>\n",
       "      <td>2015-01-04</td>\n",
       "      <td>20:55:29</td>\n",
       "      <td>568</td>\n",
       "      <td>hawaiian_m</td>\n",
       "      <td>1</td>\n",
       "      <td>hawaiian</td>\n",
       "      <td>M</td>\n",
       "      <td>13.25</td>\n",
       "      <td>The Hawaiian Pizza</td>\n",
       "      <td>Classic</td>\n",
       "      <td>Sliced Ham, Pineapple, Mozzarella Cheese</td>\n",
       "    </tr>\n",
       "    <tr>\n",
       "      <th>5</th>\n",
       "      <td>314</td>\n",
       "      <td>2015-01-06</td>\n",
       "      <td>12:11:58</td>\n",
       "      <td>716</td>\n",
       "      <td>hawaiian_m</td>\n",
       "      <td>1</td>\n",
       "      <td>hawaiian</td>\n",
       "      <td>M</td>\n",
       "      <td>13.25</td>\n",
       "      <td>The Hawaiian Pizza</td>\n",
       "      <td>Classic</td>\n",
       "      <td>Sliced Ham, Pineapple, Mozzarella Cheese</td>\n",
       "    </tr>\n",
       "    <tr>\n",
       "      <th>6</th>\n",
       "      <td>351</td>\n",
       "      <td>2015-01-06</td>\n",
       "      <td>17:37:29</td>\n",
       "      <td>806</td>\n",
       "      <td>hawaiian_m</td>\n",
       "      <td>1</td>\n",
       "      <td>hawaiian</td>\n",
       "      <td>M</td>\n",
       "      <td>13.25</td>\n",
       "      <td>The Hawaiian Pizza</td>\n",
       "      <td>Classic</td>\n",
       "      <td>Sliced Ham, Pineapple, Mozzarella Cheese</td>\n",
       "    </tr>\n",
       "    <tr>\n",
       "      <th>7</th>\n",
       "      <td>377</td>\n",
       "      <td>2015-01-07</td>\n",
       "      <td>12:03:18</td>\n",
       "      <td>856</td>\n",
       "      <td>hawaiian_m</td>\n",
       "      <td>1</td>\n",
       "      <td>hawaiian</td>\n",
       "      <td>M</td>\n",
       "      <td>13.25</td>\n",
       "      <td>The Hawaiian Pizza</td>\n",
       "      <td>Classic</td>\n",
       "      <td>Sliced Ham, Pineapple, Mozzarella Cheese</td>\n",
       "    </tr>\n",
       "    <tr>\n",
       "      <th>8</th>\n",
       "      <td>558</td>\n",
       "      <td>2015-01-09</td>\n",
       "      <td>20:51:10</td>\n",
       "      <td>1263</td>\n",
       "      <td>hawaiian_m</td>\n",
       "      <td>1</td>\n",
       "      <td>hawaiian</td>\n",
       "      <td>M</td>\n",
       "      <td>13.25</td>\n",
       "      <td>The Hawaiian Pizza</td>\n",
       "      <td>Classic</td>\n",
       "      <td>Sliced Ham, Pineapple, Mozzarella Cheese</td>\n",
       "    </tr>\n",
       "    <tr>\n",
       "      <th>9</th>\n",
       "      <td>580</td>\n",
       "      <td>2015-01-10</td>\n",
       "      <td>13:56:01</td>\n",
       "      <td>1312</td>\n",
       "      <td>hawaiian_m</td>\n",
       "      <td>1</td>\n",
       "      <td>hawaiian</td>\n",
       "      <td>M</td>\n",
       "      <td>13.25</td>\n",
       "      <td>The Hawaiian Pizza</td>\n",
       "      <td>Classic</td>\n",
       "      <td>Sliced Ham, Pineapple, Mozzarella Cheese</td>\n",
       "    </tr>\n",
       "  </tbody>\n",
       "</table>\n",
       "</div>"
      ],
      "text/plain": [
       "   order_id        date      time  order_details_id    pizza_id  quantity  \\\n",
       "0         1  2015-01-01  11:38:36                 1  hawaiian_m         1   \n",
       "1        77  2015-01-02  12:22:46               179  hawaiian_m         1   \n",
       "2       146  2015-01-03  14:22:10               357  hawaiian_m         1   \n",
       "3       163  2015-01-03  16:54:54               389  hawaiian_m         1   \n",
       "4       247  2015-01-04  20:55:29               568  hawaiian_m         1   \n",
       "5       314  2015-01-06  12:11:58               716  hawaiian_m         1   \n",
       "6       351  2015-01-06  17:37:29               806  hawaiian_m         1   \n",
       "7       377  2015-01-07  12:03:18               856  hawaiian_m         1   \n",
       "8       558  2015-01-09  20:51:10              1263  hawaiian_m         1   \n",
       "9       580  2015-01-10  13:56:01              1312  hawaiian_m         1   \n",
       "\n",
       "  pizza_type_id size  price                name category  \\\n",
       "0      hawaiian    M  13.25  The Hawaiian Pizza  Classic   \n",
       "1      hawaiian    M  13.25  The Hawaiian Pizza  Classic   \n",
       "2      hawaiian    M  13.25  The Hawaiian Pizza  Classic   \n",
       "3      hawaiian    M  13.25  The Hawaiian Pizza  Classic   \n",
       "4      hawaiian    M  13.25  The Hawaiian Pizza  Classic   \n",
       "5      hawaiian    M  13.25  The Hawaiian Pizza  Classic   \n",
       "6      hawaiian    M  13.25  The Hawaiian Pizza  Classic   \n",
       "7      hawaiian    M  13.25  The Hawaiian Pizza  Classic   \n",
       "8      hawaiian    M  13.25  The Hawaiian Pizza  Classic   \n",
       "9      hawaiian    M  13.25  The Hawaiian Pizza  Classic   \n",
       "\n",
       "                                ingredients  \n",
       "0  Sliced Ham, Pineapple, Mozzarella Cheese  \n",
       "1  Sliced Ham, Pineapple, Mozzarella Cheese  \n",
       "2  Sliced Ham, Pineapple, Mozzarella Cheese  \n",
       "3  Sliced Ham, Pineapple, Mozzarella Cheese  \n",
       "4  Sliced Ham, Pineapple, Mozzarella Cheese  \n",
       "5  Sliced Ham, Pineapple, Mozzarella Cheese  \n",
       "6  Sliced Ham, Pineapple, Mozzarella Cheese  \n",
       "7  Sliced Ham, Pineapple, Mozzarella Cheese  \n",
       "8  Sliced Ham, Pineapple, Mozzarella Cheese  \n",
       "9  Sliced Ham, Pineapple, Mozzarella Cheese  "
      ]
     },
     "execution_count": 6,
     "metadata": {},
     "output_type": "execute_result"
    }
   ],
   "source": [
    "df.head(10)"
   ]
  },
  {
   "cell_type": "code",
   "execution_count": 7,
   "id": "2e881741",
   "metadata": {
    "execution": {
     "iopub.execute_input": "2023-10-16T17:30:39.060431Z",
     "iopub.status.busy": "2023-10-16T17:30:39.060058Z",
     "iopub.status.idle": "2023-10-16T17:30:39.100835Z",
     "shell.execute_reply": "2023-10-16T17:30:39.099511Z"
    },
    "papermill": {
     "duration": 0.053038,
     "end_time": "2023-10-16T17:30:39.103044",
     "exception": false,
     "start_time": "2023-10-16T17:30:39.050006",
     "status": "completed"
    },
    "tags": []
   },
   "outputs": [
    {
     "name": "stdout",
     "output_type": "stream",
     "text": [
      "<class 'pandas.core.frame.DataFrame'>\n",
      "RangeIndex: 48620 entries, 0 to 48619\n",
      "Data columns (total 12 columns):\n",
      " #   Column            Non-Null Count  Dtype  \n",
      "---  ------            --------------  -----  \n",
      " 0   order_id          48620 non-null  int64  \n",
      " 1   date              48620 non-null  object \n",
      " 2   time              48620 non-null  object \n",
      " 3   order_details_id  48620 non-null  int64  \n",
      " 4   pizza_id          48620 non-null  object \n",
      " 5   quantity          48620 non-null  int64  \n",
      " 6   pizza_type_id     48620 non-null  object \n",
      " 7   size              48620 non-null  object \n",
      " 8   price             48620 non-null  float64\n",
      " 9   name              48620 non-null  object \n",
      " 10  category          48620 non-null  object \n",
      " 11  ingredients       48620 non-null  object \n",
      "dtypes: float64(1), int64(3), object(8)\n",
      "memory usage: 4.5+ MB\n"
     ]
    }
   ],
   "source": [
    "df.info()"
   ]
  },
  {
   "cell_type": "code",
   "execution_count": 8,
   "id": "3aa2b185",
   "metadata": {
    "execution": {
     "iopub.execute_input": "2023-10-16T17:30:39.123110Z",
     "iopub.status.busy": "2023-10-16T17:30:39.122762Z",
     "iopub.status.idle": "2023-10-16T17:30:39.152041Z",
     "shell.execute_reply": "2023-10-16T17:30:39.150972Z"
    },
    "papermill": {
     "duration": 0.042258,
     "end_time": "2023-10-16T17:30:39.154441",
     "exception": false,
     "start_time": "2023-10-16T17:30:39.112183",
     "status": "completed"
    },
    "tags": []
   },
   "outputs": [
    {
     "data": {
      "text/html": [
       "<div>\n",
       "<style scoped>\n",
       "    .dataframe tbody tr th:only-of-type {\n",
       "        vertical-align: middle;\n",
       "    }\n",
       "\n",
       "    .dataframe tbody tr th {\n",
       "        vertical-align: top;\n",
       "    }\n",
       "\n",
       "    .dataframe thead th {\n",
       "        text-align: right;\n",
       "    }\n",
       "</style>\n",
       "<table border=\"1\" class=\"dataframe\">\n",
       "  <thead>\n",
       "    <tr style=\"text-align: right;\">\n",
       "      <th></th>\n",
       "      <th>order_id</th>\n",
       "      <th>order_details_id</th>\n",
       "      <th>quantity</th>\n",
       "      <th>price</th>\n",
       "    </tr>\n",
       "  </thead>\n",
       "  <tbody>\n",
       "    <tr>\n",
       "      <th>count</th>\n",
       "      <td>48620.000000</td>\n",
       "      <td>48620.000000</td>\n",
       "      <td>48620.000000</td>\n",
       "      <td>48620.000000</td>\n",
       "    </tr>\n",
       "    <tr>\n",
       "      <th>mean</th>\n",
       "      <td>10701.479761</td>\n",
       "      <td>24310.500000</td>\n",
       "      <td>1.019622</td>\n",
       "      <td>16.494132</td>\n",
       "    </tr>\n",
       "    <tr>\n",
       "      <th>std</th>\n",
       "      <td>6180.119770</td>\n",
       "      <td>14035.529381</td>\n",
       "      <td>0.143077</td>\n",
       "      <td>3.621789</td>\n",
       "    </tr>\n",
       "    <tr>\n",
       "      <th>min</th>\n",
       "      <td>1.000000</td>\n",
       "      <td>1.000000</td>\n",
       "      <td>1.000000</td>\n",
       "      <td>9.750000</td>\n",
       "    </tr>\n",
       "    <tr>\n",
       "      <th>25%</th>\n",
       "      <td>5337.000000</td>\n",
       "      <td>12155.750000</td>\n",
       "      <td>1.000000</td>\n",
       "      <td>12.750000</td>\n",
       "    </tr>\n",
       "    <tr>\n",
       "      <th>50%</th>\n",
       "      <td>10682.500000</td>\n",
       "      <td>24310.500000</td>\n",
       "      <td>1.000000</td>\n",
       "      <td>16.500000</td>\n",
       "    </tr>\n",
       "    <tr>\n",
       "      <th>75%</th>\n",
       "      <td>16100.000000</td>\n",
       "      <td>36465.250000</td>\n",
       "      <td>1.000000</td>\n",
       "      <td>20.250000</td>\n",
       "    </tr>\n",
       "    <tr>\n",
       "      <th>max</th>\n",
       "      <td>21350.000000</td>\n",
       "      <td>48620.000000</td>\n",
       "      <td>4.000000</td>\n",
       "      <td>35.950000</td>\n",
       "    </tr>\n",
       "  </tbody>\n",
       "</table>\n",
       "</div>"
      ],
      "text/plain": [
       "           order_id  order_details_id      quantity         price\n",
       "count  48620.000000      48620.000000  48620.000000  48620.000000\n",
       "mean   10701.479761      24310.500000      1.019622     16.494132\n",
       "std     6180.119770      14035.529381      0.143077      3.621789\n",
       "min        1.000000          1.000000      1.000000      9.750000\n",
       "25%     5337.000000      12155.750000      1.000000     12.750000\n",
       "50%    10682.500000      24310.500000      1.000000     16.500000\n",
       "75%    16100.000000      36465.250000      1.000000     20.250000\n",
       "max    21350.000000      48620.000000      4.000000     35.950000"
      ]
     },
     "execution_count": 8,
     "metadata": {},
     "output_type": "execute_result"
    }
   ],
   "source": [
    "df.describe()"
   ]
  },
  {
   "cell_type": "code",
   "execution_count": 9,
   "id": "ad81a59c",
   "metadata": {
    "execution": {
     "iopub.execute_input": "2023-10-16T17:30:39.174867Z",
     "iopub.status.busy": "2023-10-16T17:30:39.174222Z",
     "iopub.status.idle": "2023-10-16T17:30:39.179271Z",
     "shell.execute_reply": "2023-10-16T17:30:39.178487Z"
    },
    "papermill": {
     "duration": 0.01722,
     "end_time": "2023-10-16T17:30:39.181077",
     "exception": false,
     "start_time": "2023-10-16T17:30:39.163857",
     "status": "completed"
    },
    "tags": []
   },
   "outputs": [
    {
     "data": {
      "text/plain": [
       "(48620, 12)"
      ]
     },
     "execution_count": 9,
     "metadata": {},
     "output_type": "execute_result"
    }
   ],
   "source": [
    "df.shape"
   ]
  },
  {
   "cell_type": "code",
   "execution_count": 10,
   "id": "d795a3e9",
   "metadata": {
    "execution": {
     "iopub.execute_input": "2023-10-16T17:30:39.200895Z",
     "iopub.status.busy": "2023-10-16T17:30:39.199883Z",
     "iopub.status.idle": "2023-10-16T17:30:39.206020Z",
     "shell.execute_reply": "2023-10-16T17:30:39.205150Z"
    },
    "papermill": {
     "duration": 0.018068,
     "end_time": "2023-10-16T17:30:39.207914",
     "exception": false,
     "start_time": "2023-10-16T17:30:39.189846",
     "status": "completed"
    },
    "tags": []
   },
   "outputs": [
    {
     "data": {
      "text/plain": [
       "Index(['order_id', 'date', 'time', 'order_details_id', 'pizza_id', 'quantity',\n",
       "       'pizza_type_id', 'size', 'price', 'name', 'category', 'ingredients'],\n",
       "      dtype='object')"
      ]
     },
     "execution_count": 10,
     "metadata": {},
     "output_type": "execute_result"
    }
   ],
   "source": [
    "df.columns"
   ]
  },
  {
   "cell_type": "code",
   "execution_count": 11,
   "id": "92ef220d",
   "metadata": {
    "execution": {
     "iopub.execute_input": "2023-10-16T17:30:39.228334Z",
     "iopub.status.busy": "2023-10-16T17:30:39.227786Z",
     "iopub.status.idle": "2023-10-16T17:30:39.255557Z",
     "shell.execute_reply": "2023-10-16T17:30:39.254712Z"
    },
    "papermill": {
     "duration": 0.040101,
     "end_time": "2023-10-16T17:30:39.257585",
     "exception": false,
     "start_time": "2023-10-16T17:30:39.217484",
     "status": "completed"
    },
    "tags": []
   },
   "outputs": [
    {
     "data": {
      "text/plain": [
       "order_id            False\n",
       "date                False\n",
       "time                False\n",
       "order_details_id    False\n",
       "pizza_id            False\n",
       "quantity            False\n",
       "pizza_type_id       False\n",
       "size                False\n",
       "price               False\n",
       "name                False\n",
       "category            False\n",
       "ingredients         False\n",
       "dtype: bool"
      ]
     },
     "execution_count": 11,
     "metadata": {},
     "output_type": "execute_result"
    }
   ],
   "source": [
    "df.isnull().any()"
   ]
  },
  {
   "cell_type": "code",
   "execution_count": 12,
   "id": "0322b715",
   "metadata": {
    "execution": {
     "iopub.execute_input": "2023-10-16T17:30:39.278199Z",
     "iopub.status.busy": "2023-10-16T17:30:39.277130Z",
     "iopub.status.idle": "2023-10-16T17:30:39.324297Z",
     "shell.execute_reply": "2023-10-16T17:30:39.323154Z"
    },
    "papermill": {
     "duration": 0.059739,
     "end_time": "2023-10-16T17:30:39.326591",
     "exception": false,
     "start_time": "2023-10-16T17:30:39.266852",
     "status": "completed"
    },
    "tags": []
   },
   "outputs": [
    {
     "data": {
      "text/plain": [
       "False"
      ]
     },
     "execution_count": 12,
     "metadata": {},
     "output_type": "execute_result"
    }
   ],
   "source": [
    "df.duplicated().any()"
   ]
  },
  {
   "cell_type": "markdown",
   "id": "10f1f5d1",
   "metadata": {
    "papermill": {
     "duration": 0.008865,
     "end_time": "2023-10-16T17:30:39.344709",
     "exception": false,
     "start_time": "2023-10-16T17:30:39.335844",
     "status": "completed"
    },
    "tags": []
   },
   "source": [
    "# Feature Engineering"
   ]
  },
  {
   "cell_type": "code",
   "execution_count": 13,
   "id": "8abeed89",
   "metadata": {
    "execution": {
     "iopub.execute_input": "2023-10-16T17:30:39.365175Z",
     "iopub.status.busy": "2023-10-16T17:30:39.364342Z",
     "iopub.status.idle": "2023-10-16T17:30:39.460328Z",
     "shell.execute_reply": "2023-10-16T17:30:39.459341Z"
    },
    "papermill": {
     "duration": 0.108446,
     "end_time": "2023-10-16T17:30:39.462376",
     "exception": false,
     "start_time": "2023-10-16T17:30:39.353930",
     "status": "completed"
    },
    "tags": []
   },
   "outputs": [
    {
     "data": {
      "text/html": [
       "<div>\n",
       "<style scoped>\n",
       "    .dataframe tbody tr th:only-of-type {\n",
       "        vertical-align: middle;\n",
       "    }\n",
       "\n",
       "    .dataframe tbody tr th {\n",
       "        vertical-align: top;\n",
       "    }\n",
       "\n",
       "    .dataframe thead th {\n",
       "        text-align: right;\n",
       "    }\n",
       "</style>\n",
       "<table border=\"1\" class=\"dataframe\">\n",
       "  <thead>\n",
       "    <tr style=\"text-align: right;\">\n",
       "      <th></th>\n",
       "      <th>order_id</th>\n",
       "      <th>date</th>\n",
       "      <th>time</th>\n",
       "      <th>order_details_id</th>\n",
       "      <th>pizza_id</th>\n",
       "      <th>quantity</th>\n",
       "      <th>pizza_type_id</th>\n",
       "      <th>size</th>\n",
       "      <th>price</th>\n",
       "      <th>name</th>\n",
       "      <th>category</th>\n",
       "      <th>ingredients</th>\n",
       "      <th>is_non_veg</th>\n",
       "    </tr>\n",
       "  </thead>\n",
       "  <tbody>\n",
       "    <tr>\n",
       "      <th>0</th>\n",
       "      <td>1</td>\n",
       "      <td>2015-01-01</td>\n",
       "      <td>11:38:36</td>\n",
       "      <td>1</td>\n",
       "      <td>hawaiian_m</td>\n",
       "      <td>1</td>\n",
       "      <td>hawaiian</td>\n",
       "      <td>M</td>\n",
       "      <td>13.25</td>\n",
       "      <td>The Hawaiian Pizza</td>\n",
       "      <td>Classic</td>\n",
       "      <td>Sliced Ham, Pineapple, Mozzarella Cheese</td>\n",
       "      <td>True</td>\n",
       "    </tr>\n",
       "    <tr>\n",
       "      <th>1</th>\n",
       "      <td>77</td>\n",
       "      <td>2015-01-02</td>\n",
       "      <td>12:22:46</td>\n",
       "      <td>179</td>\n",
       "      <td>hawaiian_m</td>\n",
       "      <td>1</td>\n",
       "      <td>hawaiian</td>\n",
       "      <td>M</td>\n",
       "      <td>13.25</td>\n",
       "      <td>The Hawaiian Pizza</td>\n",
       "      <td>Classic</td>\n",
       "      <td>Sliced Ham, Pineapple, Mozzarella Cheese</td>\n",
       "      <td>True</td>\n",
       "    </tr>\n",
       "    <tr>\n",
       "      <th>2</th>\n",
       "      <td>146</td>\n",
       "      <td>2015-01-03</td>\n",
       "      <td>14:22:10</td>\n",
       "      <td>357</td>\n",
       "      <td>hawaiian_m</td>\n",
       "      <td>1</td>\n",
       "      <td>hawaiian</td>\n",
       "      <td>M</td>\n",
       "      <td>13.25</td>\n",
       "      <td>The Hawaiian Pizza</td>\n",
       "      <td>Classic</td>\n",
       "      <td>Sliced Ham, Pineapple, Mozzarella Cheese</td>\n",
       "      <td>True</td>\n",
       "    </tr>\n",
       "    <tr>\n",
       "      <th>3</th>\n",
       "      <td>163</td>\n",
       "      <td>2015-01-03</td>\n",
       "      <td>16:54:54</td>\n",
       "      <td>389</td>\n",
       "      <td>hawaiian_m</td>\n",
       "      <td>1</td>\n",
       "      <td>hawaiian</td>\n",
       "      <td>M</td>\n",
       "      <td>13.25</td>\n",
       "      <td>The Hawaiian Pizza</td>\n",
       "      <td>Classic</td>\n",
       "      <td>Sliced Ham, Pineapple, Mozzarella Cheese</td>\n",
       "      <td>True</td>\n",
       "    </tr>\n",
       "    <tr>\n",
       "      <th>4</th>\n",
       "      <td>247</td>\n",
       "      <td>2015-01-04</td>\n",
       "      <td>20:55:29</td>\n",
       "      <td>568</td>\n",
       "      <td>hawaiian_m</td>\n",
       "      <td>1</td>\n",
       "      <td>hawaiian</td>\n",
       "      <td>M</td>\n",
       "      <td>13.25</td>\n",
       "      <td>The Hawaiian Pizza</td>\n",
       "      <td>Classic</td>\n",
       "      <td>Sliced Ham, Pineapple, Mozzarella Cheese</td>\n",
       "      <td>True</td>\n",
       "    </tr>\n",
       "    <tr>\n",
       "      <th>5</th>\n",
       "      <td>314</td>\n",
       "      <td>2015-01-06</td>\n",
       "      <td>12:11:58</td>\n",
       "      <td>716</td>\n",
       "      <td>hawaiian_m</td>\n",
       "      <td>1</td>\n",
       "      <td>hawaiian</td>\n",
       "      <td>M</td>\n",
       "      <td>13.25</td>\n",
       "      <td>The Hawaiian Pizza</td>\n",
       "      <td>Classic</td>\n",
       "      <td>Sliced Ham, Pineapple, Mozzarella Cheese</td>\n",
       "      <td>True</td>\n",
       "    </tr>\n",
       "    <tr>\n",
       "      <th>6</th>\n",
       "      <td>351</td>\n",
       "      <td>2015-01-06</td>\n",
       "      <td>17:37:29</td>\n",
       "      <td>806</td>\n",
       "      <td>hawaiian_m</td>\n",
       "      <td>1</td>\n",
       "      <td>hawaiian</td>\n",
       "      <td>M</td>\n",
       "      <td>13.25</td>\n",
       "      <td>The Hawaiian Pizza</td>\n",
       "      <td>Classic</td>\n",
       "      <td>Sliced Ham, Pineapple, Mozzarella Cheese</td>\n",
       "      <td>True</td>\n",
       "    </tr>\n",
       "    <tr>\n",
       "      <th>7</th>\n",
       "      <td>377</td>\n",
       "      <td>2015-01-07</td>\n",
       "      <td>12:03:18</td>\n",
       "      <td>856</td>\n",
       "      <td>hawaiian_m</td>\n",
       "      <td>1</td>\n",
       "      <td>hawaiian</td>\n",
       "      <td>M</td>\n",
       "      <td>13.25</td>\n",
       "      <td>The Hawaiian Pizza</td>\n",
       "      <td>Classic</td>\n",
       "      <td>Sliced Ham, Pineapple, Mozzarella Cheese</td>\n",
       "      <td>True</td>\n",
       "    </tr>\n",
       "    <tr>\n",
       "      <th>8</th>\n",
       "      <td>558</td>\n",
       "      <td>2015-01-09</td>\n",
       "      <td>20:51:10</td>\n",
       "      <td>1263</td>\n",
       "      <td>hawaiian_m</td>\n",
       "      <td>1</td>\n",
       "      <td>hawaiian</td>\n",
       "      <td>M</td>\n",
       "      <td>13.25</td>\n",
       "      <td>The Hawaiian Pizza</td>\n",
       "      <td>Classic</td>\n",
       "      <td>Sliced Ham, Pineapple, Mozzarella Cheese</td>\n",
       "      <td>True</td>\n",
       "    </tr>\n",
       "    <tr>\n",
       "      <th>9</th>\n",
       "      <td>580</td>\n",
       "      <td>2015-01-10</td>\n",
       "      <td>13:56:01</td>\n",
       "      <td>1312</td>\n",
       "      <td>hawaiian_m</td>\n",
       "      <td>1</td>\n",
       "      <td>hawaiian</td>\n",
       "      <td>M</td>\n",
       "      <td>13.25</td>\n",
       "      <td>The Hawaiian Pizza</td>\n",
       "      <td>Classic</td>\n",
       "      <td>Sliced Ham, Pineapple, Mozzarella Cheese</td>\n",
       "      <td>True</td>\n",
       "    </tr>\n",
       "  </tbody>\n",
       "</table>\n",
       "</div>"
      ],
      "text/plain": [
       "   order_id        date      time  order_details_id    pizza_id  quantity  \\\n",
       "0         1  2015-01-01  11:38:36                 1  hawaiian_m         1   \n",
       "1        77  2015-01-02  12:22:46               179  hawaiian_m         1   \n",
       "2       146  2015-01-03  14:22:10               357  hawaiian_m         1   \n",
       "3       163  2015-01-03  16:54:54               389  hawaiian_m         1   \n",
       "4       247  2015-01-04  20:55:29               568  hawaiian_m         1   \n",
       "5       314  2015-01-06  12:11:58               716  hawaiian_m         1   \n",
       "6       351  2015-01-06  17:37:29               806  hawaiian_m         1   \n",
       "7       377  2015-01-07  12:03:18               856  hawaiian_m         1   \n",
       "8       558  2015-01-09  20:51:10              1263  hawaiian_m         1   \n",
       "9       580  2015-01-10  13:56:01              1312  hawaiian_m         1   \n",
       "\n",
       "  pizza_type_id size  price                name category  \\\n",
       "0      hawaiian    M  13.25  The Hawaiian Pizza  Classic   \n",
       "1      hawaiian    M  13.25  The Hawaiian Pizza  Classic   \n",
       "2      hawaiian    M  13.25  The Hawaiian Pizza  Classic   \n",
       "3      hawaiian    M  13.25  The Hawaiian Pizza  Classic   \n",
       "4      hawaiian    M  13.25  The Hawaiian Pizza  Classic   \n",
       "5      hawaiian    M  13.25  The Hawaiian Pizza  Classic   \n",
       "6      hawaiian    M  13.25  The Hawaiian Pizza  Classic   \n",
       "7      hawaiian    M  13.25  The Hawaiian Pizza  Classic   \n",
       "8      hawaiian    M  13.25  The Hawaiian Pizza  Classic   \n",
       "9      hawaiian    M  13.25  The Hawaiian Pizza  Classic   \n",
       "\n",
       "                                ingredients  is_non_veg  \n",
       "0  Sliced Ham, Pineapple, Mozzarella Cheese        True  \n",
       "1  Sliced Ham, Pineapple, Mozzarella Cheese        True  \n",
       "2  Sliced Ham, Pineapple, Mozzarella Cheese        True  \n",
       "3  Sliced Ham, Pineapple, Mozzarella Cheese        True  \n",
       "4  Sliced Ham, Pineapple, Mozzarella Cheese        True  \n",
       "5  Sliced Ham, Pineapple, Mozzarella Cheese        True  \n",
       "6  Sliced Ham, Pineapple, Mozzarella Cheese        True  \n",
       "7  Sliced Ham, Pineapple, Mozzarella Cheese        True  \n",
       "8  Sliced Ham, Pineapple, Mozzarella Cheese        True  \n",
       "9  Sliced Ham, Pineapple, Mozzarella Cheese        True  "
      ]
     },
     "execution_count": 13,
     "metadata": {},
     "output_type": "execute_result"
    }
   ],
   "source": [
    "# List of non-veg ingredients\n",
    "non_veg_ingredients = [\n",
    "    \"Pepperoni\", \"Bacon\", \"Sliced Ham\", \"Chicken\", \"Thai Sweet Chilli Sauce\",\n",
    "    \"Luganega Sausage\", \"Coarse Sicilian Salami\", \"Capocollo\", \"Calabrese Salami\",\n",
    "    \"Italian Sausage\", \"Chorizo Sausage\", \"Anchovies\", \"Prosciutto di San Daniele\",\n",
    "    \"Genoa Salami\", \"Kalamata Olives\", \"Beef Chuck Roast\", \"Soppressata Salami\",\n",
    "    \"Eggplant\", \"Pesto Sauce\", \"Nduja Salami\", \"Pancetta\", \"Friggitello Peppers\",\n",
    "    \"Plum Tomatoes\", \"Brie Carre Cheese\", \"Prosciutto\", \"Caramelized Onions\", \"Pears\", \"Thyme\"\n",
    "]\n",
    "\n",
    "# Define a function to check if any non-veg ingredient is present\n",
    "def has_non_veg_ingredient(ingredients):\n",
    "    return any(ingredient in ingredients for ingredient in non_veg_ingredients)\n",
    "\n",
    "# Create the \"is_veg\" column based on the \"ingredients\" column\n",
    "df['is_non_veg'] = df['ingredients'].apply(has_non_veg_ingredient)\n",
    "\n",
    "# Display the DataFrame with the \"is_veg\" column\n",
    "df.head(10)"
   ]
  },
  {
   "cell_type": "markdown",
   "id": "7362fa6e",
   "metadata": {
    "papermill": {
     "duration": 0.066789,
     "end_time": "2023-10-16T17:30:39.538556",
     "exception": false,
     "start_time": "2023-10-16T17:30:39.471767",
     "status": "completed"
    },
    "tags": []
   },
   "source": [
    "# EDA process\n",
    "* <b>Question 1</b>: Sales distribution with respect to category\n",
    "* Question 2: Most opted pizza size\n",
    "* Question 3: Distribution of sales between veg & non-veg pizzas\n",
    "* Question 4: Mean price for each type\n",
    "* Question 5: Price Distribution\n",
    "* Question 6: Sales trend over the years\n",
    "* Question 7: Sales trend over Quaterly"
   ]
  },
  {
   "cell_type": "markdown",
   "id": "e86e535f",
   "metadata": {
    "papermill": {
     "duration": 0.009071,
     "end_time": "2023-10-16T17:30:39.557076",
     "exception": false,
     "start_time": "2023-10-16T17:30:39.548005",
     "status": "completed"
    },
    "tags": []
   },
   "source": []
  },
  {
   "cell_type": "markdown",
   "id": "8002ceb7",
   "metadata": {
    "papermill": {
     "duration": 0.009208,
     "end_time": "2023-10-16T17:30:39.575658",
     "exception": false,
     "start_time": "2023-10-16T17:30:39.566450",
     "status": "completed"
    },
    "tags": []
   },
   "source": [
    "## Question 1"
   ]
  },
  {
   "cell_type": "code",
   "execution_count": 14,
   "id": "6dcf70f8",
   "metadata": {
    "execution": {
     "iopub.execute_input": "2023-10-16T17:30:39.596678Z",
     "iopub.status.busy": "2023-10-16T17:30:39.595800Z",
     "iopub.status.idle": "2023-10-16T17:30:39.754591Z",
     "shell.execute_reply": "2023-10-16T17:30:39.753150Z"
    },
    "papermill": {
     "duration": 0.173533,
     "end_time": "2023-10-16T17:30:39.758727",
     "exception": false,
     "start_time": "2023-10-16T17:30:39.585194",
     "status": "completed"
    },
    "tags": []
   },
   "outputs": [
    {
     "data": {
      "image/png": "[encoded data removed]",
      "text/plain": [
       "<Figure size 800x300 with 1 Axes>"
      ]
     },
     "metadata": {},
     "output_type": "display_data"
    }
   ],
   "source": [
    "\n",
    "question1 ='''\n",
    "# Count the occurrences of each category\n",
    "category_counts = df['category'].value_counts()\n",
    "\n",
    "# Set custom colors for the pie chart\n",
    "colors = ['#FF9999', '#66B2FF', '#99FF99', '#FFCC99']\n",
    "\n",
    "# Create a pie chart\n",
    "plt.figure(figsize=(8, 3))\n",
    "plt.pie(category_counts, labels=category_counts.index, autopct='%1.1f%%', colors=colors, startangle=90)\n",
    "plt.title(\"Category Distribution\")\n",
    "\n",
    "# Display the plot\n",
    "plt.show()\n",
    "'''\n",
    "\n",
    "exec(question1)"
   ]
  },
  {
   "cell_type": "markdown",
   "id": "a94e19b6",
   "metadata": {
    "papermill": {
     "duration": 0.029081,
     "end_time": "2023-10-16T17:30:39.817255",
     "exception": false,
     "start_time": "2023-10-16T17:30:39.788174",
     "status": "completed"
    },
    "tags": []
   },
   "source": [
    "## Question 2"
   ]
  },
  {
   "cell_type": "code",
   "execution_count": 15,
   "id": "53843f94",
   "metadata": {
    "execution": {
     "iopub.execute_input": "2023-10-16T17:30:39.839592Z",
     "iopub.status.busy": "2023-10-16T17:30:39.839005Z",
     "iopub.status.idle": "2023-10-16T17:30:40.123066Z",
     "shell.execute_reply": "2023-10-16T17:30:40.122272Z"
    },
    "papermill": {
     "duration": 0.297498,
     "end_time": "2023-10-16T17:30:40.124978",
     "exception": false,
     "start_time": "2023-10-16T17:30:39.827480",
     "status": "completed"
    },
    "tags": []
   },
   "outputs": [
    {
     "data": {
      "image/png": "[encoded data removed]",
      "text/plain": [
       "<Figure size 1600x500 with 1 Axes>"
      ]
     },
     "metadata": {},
     "output_type": "display_data"
    }
   ],
   "source": [
    "question2 = '''\n",
    "plt.figure(figsize=(16,5))\n",
    "df['size'].value_counts().plot(kind='bar')\n",
    "plt.title(\"Most popular size choice for pizza\")\n",
    "plt.xlabel(\"size\")\n",
    "plt.ylabel(\"sales\")\n",
    "plt.xticks(rotation=45)\n",
    "plt.show()\n",
    "'''\n",
    "\n",
    "exec(question2)"
   ]
  },
  {
   "cell_type": "code",
   "execution_count": 16,
   "id": "7616f9d9",
   "metadata": {
    "execution": {
     "iopub.execute_input": "2023-10-16T17:30:40.148173Z",
     "iopub.status.busy": "2023-10-16T17:30:40.147594Z",
     "iopub.status.idle": "2023-10-16T17:30:40.158237Z",
     "shell.execute_reply": "2023-10-16T17:30:40.157135Z"
    },
    "papermill": {
     "duration": 0.024978,
     "end_time": "2023-10-16T17:30:40.160465",
     "exception": false,
     "start_time": "2023-10-16T17:30:40.135487",
     "status": "completed"
    },
    "tags": []
   },
   "outputs": [
    {
     "data": {
      "text/plain": [
       "ingredients\n",
       "Pepperoni, Mushrooms, Red Onions, Red Peppers, Bacon                                                 2416\n",
       "Barbecued Chicken, Red Peppers, Green Peppers, Tomatoes, Red Onions, Barbecue Sauce                  2372\n",
       "Sliced Ham, Pineapple, Mozzarella Cheese                                                             2370\n",
       "Mozzarella Cheese, Pepperoni                                                                         2369\n",
       "Chicken, Pineapple, Tomatoes, Red Peppers, Thai Sweet Chilli Sauce                                   2315\n",
       "Chicken, Artichoke, Spinach, Garlic, Jalapeno Peppers, Fontina Cheese, Gouda Cheese                  2302\n",
       "Coarse Sicilian Salami, Tomatoes, Green Olives, Luganega Sausage, Onions, Garlic                     1887\n",
       "Capocollo, Tomatoes, Goat Cheese, Artichokes, Peperoncini verdi, Garlic                              1887\n",
       "Chicken, Tomatoes, Red Peppers, Red Onions, Jalapeno Peppers, Corn, Cilantro, Chipotle Sauce         1885\n",
       "Ricotta Cheese, Gorgonzola Piccante Cheese, Mozzarella Cheese, Parmigiano Reggiano Cheese, Garlic    1850\n",
       "Calabrese Salami, Capocollo, Tomatoes, Red Onions, Green Olives, Garlic                              1849\n",
       "Bacon, Pepperoni, Italian Sausage, Chorizo Sausage                                                   1811\n",
       "Mushrooms, Tomatoes, Red Peppers, Green Peppers, Red Onions, Zucchini, Spinach, Garlic               1510\n",
       "Tomatoes, Red Peppers, Jalapeno Peppers, Red Onions, Cilantro, Corn, Chipotle Sauce, Garlic          1456\n",
       "Tomatoes, Anchovies, Green Olives, Red Onions, Garlic                                                1451\n",
       "Spinach, Mushrooms, Red Onions, Feta Cheese, Garlic                                                  1432\n",
       "Prosciutto di San Daniele, Arugula, Mozzarella Cheese                                                1428\n",
       "Genoa Salami, Capocollo, Pepperoni, Tomatoes, Asiago Cheese, Garlic                                  1422\n",
       "Capocollo, Red Peppers, Tomatoes, Goat Cheese, Garlic, Oregano                                       1414\n",
       "Kalamata Olives, Feta Cheese, Tomatoes, Garlic, Beef Chuck Roast, Red Onions                         1406\n",
       "Mozzarella Cheese, Provolone Cheese, Smoked Gouda Cheese, Romano Cheese, Blue Cheese, Garlic         1359\n",
       "Pepperoni, Mushrooms, Green Peppers                                                                  1342\n",
       "Spinach, Mushrooms, Tomatoes, Green Olives, Feta Cheese                                               987\n",
       "Chicken, Red Onions, Red Peppers, Mushrooms, Asiago Cheese, Alfredo Sauce                             980\n",
       "Eggplant, Artichokes, Tomatoes, Zucchini, Red Peppers, Garlic, Pesto Sauce                            975\n",
       "Chicken, Tomatoes, Red Peppers, Spinach, Garlic, Pesto Sauce                                          961\n",
       "Spinach, Artichokes, Tomatoes, Sun-dried Tomatoes, Garlic, Pesto Sauce                                957\n",
       "Soppressata Salami, Fontina Cheese, Mozzarella Cheese, Mushrooms, Garlic                              957\n",
       "Spinach, Red Onions, Pepperoni, Tomatoes, Artichokes, Kalamata Olives, Garlic, Asiago Cheese          940\n",
       "Nduja Salami, Pancetta, Tomatoes, Red Onions, Friggitello Peppers, Garlic                            927\n",
       "Spinach, Artichokes, Kalamata Olives, Sun-dried Tomatoes, Feta Cheese, Plum Tomatoes, Red Onions      923\n",
       "Brie Carre Cheese, Prosciutto, Caramelized Onions, Pears, Thyme, Garlic                               480\n",
       "Name: count, dtype: int64"
      ]
     },
     "execution_count": 16,
     "metadata": {},
     "output_type": "execute_result"
    }
   ],
   "source": [
    "df['ingredients'].value_counts()"
   ]
  },
  {
   "cell_type": "code",
   "execution_count": 17,
   "id": "6fabc5ab",
   "metadata": {
    "execution": {
     "iopub.execute_input": "2023-10-16T17:30:40.184370Z",
     "iopub.status.busy": "2023-10-16T17:30:40.183712Z",
     "iopub.status.idle": "2023-10-16T17:30:40.199880Z",
     "shell.execute_reply": "2023-10-16T17:30:40.198823Z"
    },
    "papermill": {
     "duration": 0.030329,
     "end_time": "2023-10-16T17:30:40.201888",
     "exception": false,
     "start_time": "2023-10-16T17:30:40.171559",
     "status": "completed"
    },
    "tags": []
   },
   "outputs": [
    {
     "data": {
      "text/html": [
       "<div>\n",
       "<style scoped>\n",
       "    .dataframe tbody tr th:only-of-type {\n",
       "        vertical-align: middle;\n",
       "    }\n",
       "\n",
       "    .dataframe tbody tr th {\n",
       "        vertical-align: top;\n",
       "    }\n",
       "\n",
       "    .dataframe thead th {\n",
       "        text-align: right;\n",
       "    }\n",
       "</style>\n",
       "<table border=\"1\" class=\"dataframe\">\n",
       "  <thead>\n",
       "    <tr style=\"text-align: right;\">\n",
       "      <th></th>\n",
       "      <th>order_id</th>\n",
       "      <th>date</th>\n",
       "      <th>time</th>\n",
       "      <th>order_details_id</th>\n",
       "      <th>pizza_id</th>\n",
       "      <th>quantity</th>\n",
       "      <th>pizza_type_id</th>\n",
       "      <th>size</th>\n",
       "      <th>price</th>\n",
       "      <th>name</th>\n",
       "      <th>category</th>\n",
       "      <th>ingredients</th>\n",
       "      <th>is_non_veg</th>\n",
       "    </tr>\n",
       "  </thead>\n",
       "  <tbody>\n",
       "    <tr>\n",
       "      <th>0</th>\n",
       "      <td>1</td>\n",
       "      <td>2015-01-01</td>\n",
       "      <td>11:38:36</td>\n",
       "      <td>1</td>\n",
       "      <td>hawaiian_m</td>\n",
       "      <td>1</td>\n",
       "      <td>hawaiian</td>\n",
       "      <td>M</td>\n",
       "      <td>13.25</td>\n",
       "      <td>The Hawaiian Pizza</td>\n",
       "      <td>Classic</td>\n",
       "      <td>Sliced Ham, Pineapple, Mozzarella Cheese</td>\n",
       "      <td>True</td>\n",
       "    </tr>\n",
       "    <tr>\n",
       "      <th>1</th>\n",
       "      <td>77</td>\n",
       "      <td>2015-01-02</td>\n",
       "      <td>12:22:46</td>\n",
       "      <td>179</td>\n",
       "      <td>hawaiian_m</td>\n",
       "      <td>1</td>\n",
       "      <td>hawaiian</td>\n",
       "      <td>M</td>\n",
       "      <td>13.25</td>\n",
       "      <td>The Hawaiian Pizza</td>\n",
       "      <td>Classic</td>\n",
       "      <td>Sliced Ham, Pineapple, Mozzarella Cheese</td>\n",
       "      <td>True</td>\n",
       "    </tr>\n",
       "    <tr>\n",
       "      <th>2</th>\n",
       "      <td>146</td>\n",
       "      <td>2015-01-03</td>\n",
       "      <td>14:22:10</td>\n",
       "      <td>357</td>\n",
       "      <td>hawaiian_m</td>\n",
       "      <td>1</td>\n",
       "      <td>hawaiian</td>\n",
       "      <td>M</td>\n",
       "      <td>13.25</td>\n",
       "      <td>The Hawaiian Pizza</td>\n",
       "      <td>Classic</td>\n",
       "      <td>Sliced Ham, Pineapple, Mozzarella Cheese</td>\n",
       "      <td>True</td>\n",
       "    </tr>\n",
       "    <tr>\n",
       "      <th>3</th>\n",
       "      <td>163</td>\n",
       "      <td>2015-01-03</td>\n",
       "      <td>16:54:54</td>\n",
       "      <td>389</td>\n",
       "      <td>hawaiian_m</td>\n",
       "      <td>1</td>\n",
       "      <td>hawaiian</td>\n",
       "      <td>M</td>\n",
       "      <td>13.25</td>\n",
       "      <td>The Hawaiian Pizza</td>\n",
       "      <td>Classic</td>\n",
       "      <td>Sliced Ham, Pineapple, Mozzarella Cheese</td>\n",
       "      <td>True</td>\n",
       "    </tr>\n",
       "    <tr>\n",
       "      <th>4</th>\n",
       "      <td>247</td>\n",
       "      <td>2015-01-04</td>\n",
       "      <td>20:55:29</td>\n",
       "      <td>568</td>\n",
       "      <td>hawaiian_m</td>\n",
       "      <td>1</td>\n",
       "      <td>hawaiian</td>\n",
       "      <td>M</td>\n",
       "      <td>13.25</td>\n",
       "      <td>The Hawaiian Pizza</td>\n",
       "      <td>Classic</td>\n",
       "      <td>Sliced Ham, Pineapple, Mozzarella Cheese</td>\n",
       "      <td>True</td>\n",
       "    </tr>\n",
       "    <tr>\n",
       "      <th>5</th>\n",
       "      <td>314</td>\n",
       "      <td>2015-01-06</td>\n",
       "      <td>12:11:58</td>\n",
       "      <td>716</td>\n",
       "      <td>hawaiian_m</td>\n",
       "      <td>1</td>\n",
       "      <td>hawaiian</td>\n",
       "      <td>M</td>\n",
       "      <td>13.25</td>\n",
       "      <td>The Hawaiian Pizza</td>\n",
       "      <td>Classic</td>\n",
       "      <td>Sliced Ham, Pineapple, Mozzarella Cheese</td>\n",
       "      <td>True</td>\n",
       "    </tr>\n",
       "    <tr>\n",
       "      <th>6</th>\n",
       "      <td>351</td>\n",
       "      <td>2015-01-06</td>\n",
       "      <td>17:37:29</td>\n",
       "      <td>806</td>\n",
       "      <td>hawaiian_m</td>\n",
       "      <td>1</td>\n",
       "      <td>hawaiian</td>\n",
       "      <td>M</td>\n",
       "      <td>13.25</td>\n",
       "      <td>The Hawaiian Pizza</td>\n",
       "      <td>Classic</td>\n",
       "      <td>Sliced Ham, Pineapple, Mozzarella Cheese</td>\n",
       "      <td>True</td>\n",
       "    </tr>\n",
       "    <tr>\n",
       "      <th>7</th>\n",
       "      <td>377</td>\n",
       "      <td>2015-01-07</td>\n",
       "      <td>12:03:18</td>\n",
       "      <td>856</td>\n",
       "      <td>hawaiian_m</td>\n",
       "      <td>1</td>\n",
       "      <td>hawaiian</td>\n",
       "      <td>M</td>\n",
       "      <td>13.25</td>\n",
       "      <td>The Hawaiian Pizza</td>\n",
       "      <td>Classic</td>\n",
       "      <td>Sliced Ham, Pineapple, Mozzarella Cheese</td>\n",
       "      <td>True</td>\n",
       "    </tr>\n",
       "    <tr>\n",
       "      <th>8</th>\n",
       "      <td>558</td>\n",
       "      <td>2015-01-09</td>\n",
       "      <td>20:51:10</td>\n",
       "      <td>1263</td>\n",
       "      <td>hawaiian_m</td>\n",
       "      <td>1</td>\n",
       "      <td>hawaiian</td>\n",
       "      <td>M</td>\n",
       "      <td>13.25</td>\n",
       "      <td>The Hawaiian Pizza</td>\n",
       "      <td>Classic</td>\n",
       "      <td>Sliced Ham, Pineapple, Mozzarella Cheese</td>\n",
       "      <td>True</td>\n",
       "    </tr>\n",
       "    <tr>\n",
       "      <th>9</th>\n",
       "      <td>580</td>\n",
       "      <td>2015-01-10</td>\n",
       "      <td>13:56:01</td>\n",
       "      <td>1312</td>\n",
       "      <td>hawaiian_m</td>\n",
       "      <td>1</td>\n",
       "      <td>hawaiian</td>\n",
       "      <td>M</td>\n",
       "      <td>13.25</td>\n",
       "      <td>The Hawaiian Pizza</td>\n",
       "      <td>Classic</td>\n",
       "      <td>Sliced Ham, Pineapple, Mozzarella Cheese</td>\n",
       "      <td>True</td>\n",
       "    </tr>\n",
       "  </tbody>\n",
       "</table>\n",
       "</div>"
      ],
      "text/plain": [
       "   order_id        date      time  order_details_id    pizza_id  quantity  \\\n",
       "0         1  2015-01-01  11:38:36                 1  hawaiian_m         1   \n",
       "1        77  2015-01-02  12:22:46               179  hawaiian_m         1   \n",
       "2       146  2015-01-03  14:22:10               357  hawaiian_m         1   \n",
       "3       163  2015-01-03  16:54:54               389  hawaiian_m         1   \n",
       "4       247  2015-01-04  20:55:29               568  hawaiian_m         1   \n",
       "5       314  2015-01-06  12:11:58               716  hawaiian_m         1   \n",
       "6       351  2015-01-06  17:37:29               806  hawaiian_m         1   \n",
       "7       377  2015-01-07  12:03:18               856  hawaiian_m         1   \n",
       "8       558  2015-01-09  20:51:10              1263  hawaiian_m         1   \n",
       "9       580  2015-01-10  13:56:01              1312  hawaiian_m         1   \n",
       "\n",
       "  pizza_type_id size  price                name category  \\\n",
       "0      hawaiian    M  13.25  The Hawaiian Pizza  Classic   \n",
       "1      hawaiian    M  13.25  The Hawaiian Pizza  Classic   \n",
       "2      hawaiian    M  13.25  The Hawaiian Pizza  Classic   \n",
       "3      hawaiian    M  13.25  The Hawaiian Pizza  Classic   \n",
       "4      hawaiian    M  13.25  The Hawaiian Pizza  Classic   \n",
       "5      hawaiian    M  13.25  The Hawaiian Pizza  Classic   \n",
       "6      hawaiian    M  13.25  The Hawaiian Pizza  Classic   \n",
       "7      hawaiian    M  13.25  The Hawaiian Pizza  Classic   \n",
       "8      hawaiian    M  13.25  The Hawaiian Pizza  Classic   \n",
       "9      hawaiian    M  13.25  The Hawaiian Pizza  Classic   \n",
       "\n",
       "                                ingredients  is_non_veg  \n",
       "0  Sliced Ham, Pineapple, Mozzarella Cheese        True  \n",
       "1  Sliced Ham, Pineapple, Mozzarella Cheese        True  \n",
       "2  Sliced Ham, Pineapple, Mozzarella Cheese        True  \n",
       "3  Sliced Ham, Pineapple, Mozzarella Cheese        True  \n",
       "4  Sliced Ham, Pineapple, Mozzarella Cheese        True  \n",
       "5  Sliced Ham, Pineapple, Mozzarella Cheese        True  \n",
       "6  Sliced Ham, Pineapple, Mozzarella Cheese        True  \n",
       "7  Sliced Ham, Pineapple, Mozzarella Cheese        True  \n",
       "8  Sliced Ham, Pineapple, Mozzarella Cheese        True  \n",
       "9  Sliced Ham, Pineapple, Mozzarella Cheese        True  "
      ]
     },
     "execution_count": 17,
     "metadata": {},
     "output_type": "execute_result"
    }
   ],
   "source": [
    "df.head(10)"
   ]
  },
  {
   "cell_type": "code",
   "execution_count": 18,
   "id": "3fc94a3a",
   "metadata": {
    "execution": {
     "iopub.execute_input": "2023-10-16T17:30:40.225925Z",
     "iopub.status.busy": "2023-10-16T17:30:40.225223Z",
     "iopub.status.idle": "2023-10-16T17:30:40.234321Z",
     "shell.execute_reply": "2023-10-16T17:30:40.233171Z"
    },
    "papermill": {
     "duration": 0.023423,
     "end_time": "2023-10-16T17:30:40.236347",
     "exception": false,
     "start_time": "2023-10-16T17:30:40.212924",
     "status": "completed"
    },
    "tags": []
   },
   "outputs": [
    {
     "data": {
      "text/plain": [
       "is_non_veg\n",
       "True     40026\n",
       "False     8594\n",
       "Name: count, dtype: int64"
      ]
     },
     "execution_count": 18,
     "metadata": {},
     "output_type": "execute_result"
    }
   ],
   "source": [
    "df['is_non_veg'].value_counts()"
   ]
  },
  {
   "cell_type": "markdown",
   "id": "14071f8f",
   "metadata": {
    "papermill": {
     "duration": 0.012008,
     "end_time": "2023-10-16T17:30:40.259848",
     "exception": false,
     "start_time": "2023-10-16T17:30:40.247840",
     "status": "completed"
    },
    "tags": []
   },
   "source": [
    "## Question 3"
   ]
  },
  {
   "cell_type": "code",
   "execution_count": 19,
   "id": "cc1f3af5",
   "metadata": {
    "execution": {
     "iopub.execute_input": "2023-10-16T17:30:40.283910Z",
     "iopub.status.busy": "2023-10-16T17:30:40.283559Z",
     "iopub.status.idle": "2023-10-16T17:30:40.517394Z",
     "shell.execute_reply": "2023-10-16T17:30:40.516317Z"
    },
    "papermill": {
     "duration": 0.248478,
     "end_time": "2023-10-16T17:30:40.519578",
     "exception": false,
     "start_time": "2023-10-16T17:30:40.271100",
     "status": "completed"
    },
    "tags": []
   },
   "outputs": [
    {
     "data": {
      "image/png": "[encoded data removed]",
      "text/plain": [
       "<Figure size 1000x500 with 1 Axes>"
      ]
     },
     "metadata": {},
     "output_type": "display_data"
    }
   ],
   "source": [
    "import matplotlib.pyplot as plt\n",
    "\n",
    "question3 = '''\n",
    "# Create a horizontal bar plot\n",
    "plt.figure(figsize=(10, 5))  # Adjust the figure size as needed\n",
    "df['is_non_veg'].value_counts().plot(kind='barh')\n",
    "plt.title(\"Vegetarian vs Non-Vegetarian\")\n",
    "plt.xlabel(\"Number of pizzas sold\")\n",
    "plt.ylabel(\"Category\")\n",
    "\n",
    "# Change the y-labels\n",
    "plt.yticks([0, 1], ['Non-Vegetarian', 'Vegetarian'])\n",
    "\n",
    "plt.show()\n",
    "'''\n",
    "\n",
    "exec(question3)\n"
   ]
  },
  {
   "cell_type": "code",
   "execution_count": 20,
   "id": "ca41f66d",
   "metadata": {
    "execution": {
     "iopub.execute_input": "2023-10-16T17:30:40.545080Z",
     "iopub.status.busy": "2023-10-16T17:30:40.544335Z",
     "iopub.status.idle": "2023-10-16T17:30:40.550955Z",
     "shell.execute_reply": "2023-10-16T17:30:40.550113Z"
    },
    "papermill": {
     "duration": 0.021715,
     "end_time": "2023-10-16T17:30:40.552881",
     "exception": false,
     "start_time": "2023-10-16T17:30:40.531166",
     "status": "completed"
    },
    "tags": []
   },
   "outputs": [
    {
     "data": {
      "text/plain": [
       "16.494132044426163"
      ]
     },
     "execution_count": 20,
     "metadata": {},
     "output_type": "execute_result"
    }
   ],
   "source": [
    "df['price'].mean()"
   ]
  },
  {
   "cell_type": "markdown",
   "id": "4e60c19d",
   "metadata": {
    "papermill": {
     "duration": 0.011182,
     "end_time": "2023-10-16T17:30:40.575726",
     "exception": false,
     "start_time": "2023-10-16T17:30:40.564544",
     "status": "completed"
    },
    "tags": []
   },
   "source": [
    "## Question 4"
   ]
  },
  {
   "cell_type": "code",
   "execution_count": 21,
   "id": "44dc5402",
   "metadata": {
    "execution": {
     "iopub.execute_input": "2023-10-16T17:30:40.600452Z",
     "iopub.status.busy": "2023-10-16T17:30:40.600098Z",
     "iopub.status.idle": "2023-10-16T17:30:40.885701Z",
     "shell.execute_reply": "2023-10-16T17:30:40.884674Z"
    },
    "papermill": {
     "duration": 0.300685,
     "end_time": "2023-10-16T17:30:40.887904",
     "exception": false,
     "start_time": "2023-10-16T17:30:40.587219",
     "status": "completed"
    },
    "tags": []
   },
   "outputs": [
    {
     "data": {
      "image/png": "[encoded data removed]",
      "text/plain": [
       "<Figure size 1600x500 with 1 Axes>"
      ]
     },
     "metadata": {},
     "output_type": "display_data"
    }
   ],
   "source": [
    "question4 ='''\n",
    "# Group by 'pizza_type_id' and calculate the mean price for each type\n",
    "grouped = df.groupby('pizza_type_id')['price'].mean()\n",
    "grouped = grouped.sort_values(ascending=False)\n",
    "\n",
    "# Plot the results\n",
    "plt.figure(figsize=(16, 5))  # Adjust the figure size as needed\n",
    "grouped.head(10).plot(kind='bar')\n",
    "plt.title(\"Average Price by Pizza Type\")\n",
    "plt.xlabel(\"Pizza Type ID\")\n",
    "plt.ylabel(\"Average Price\")\n",
    "plt.xticks(rotation=0)  # Rotate x-axis labels if needed\n",
    "plt.show()\n",
    "'''\n",
    "\n",
    "exec(question4)"
   ]
  },
  {
   "cell_type": "markdown",
   "id": "229b95ab",
   "metadata": {
    "papermill": {
     "duration": 0.012105,
     "end_time": "2023-10-16T17:30:40.912462",
     "exception": false,
     "start_time": "2023-10-16T17:30:40.900357",
     "status": "completed"
    },
    "tags": []
   },
   "source": [
    "## Question 5"
   ]
  },
  {
   "cell_type": "code",
   "execution_count": 22,
   "id": "af9817e0",
   "metadata": {
    "execution": {
     "iopub.execute_input": "2023-10-16T17:30:40.938447Z",
     "iopub.status.busy": "2023-10-16T17:30:40.937830Z",
     "iopub.status.idle": "2023-10-16T17:30:41.165054Z",
     "shell.execute_reply": "2023-10-16T17:30:41.163881Z"
    },
    "papermill": {
     "duration": 0.24269,
     "end_time": "2023-10-16T17:30:41.167250",
     "exception": false,
     "start_time": "2023-10-16T17:30:40.924560",
     "status": "completed"
    },
    "tags": []
   },
   "outputs": [
    {
     "data": {
      "image/png": "[encoded data removed]",
      "text/plain": [
       "<Figure size 1600x500 with 1 Axes>"
      ]
     },
     "metadata": {},
     "output_type": "display_data"
    }
   ],
   "source": [
    "\n",
    "question5 = '''\n",
    "plt.figure(figsize=(16, 5))  # Adjust the figure size as needed\n",
    "df['price'].plot(kind='box',color='navy')\n",
    "plt.title(\"Price Distribution\")\n",
    "plt.xlabel(\"price\")\n",
    "plt.xticks(rotation=0)  # Rotate x-axis labels if needed\n",
    "plt.show()\n",
    "'''\n",
    "\n",
    "exec(question5)"
   ]
  },
  {
   "cell_type": "markdown",
   "id": "facb3b0f",
   "metadata": {
    "papermill": {
     "duration": 0.011836,
     "end_time": "2023-10-16T17:30:41.191505",
     "exception": false,
     "start_time": "2023-10-16T17:30:41.179669",
     "status": "completed"
    },
    "tags": []
   },
   "source": [
    "## Qustion 6"
   ]
  },
  {
   "cell_type": "code",
   "execution_count": 23,
   "id": "7b70de8d",
   "metadata": {
    "execution": {
     "iopub.execute_input": "2023-10-16T17:30:41.217597Z",
     "iopub.status.busy": "2023-10-16T17:30:41.217240Z",
     "iopub.status.idle": "2023-10-16T17:30:41.233124Z",
     "shell.execute_reply": "2023-10-16T17:30:41.232160Z"
    },
    "papermill": {
     "duration": 0.031899,
     "end_time": "2023-10-16T17:30:41.235529",
     "exception": false,
     "start_time": "2023-10-16T17:30:41.203630",
     "status": "completed"
    },
    "tags": []
   },
   "outputs": [],
   "source": [
    "df['date'].dtype\n",
    "df['date'] = pd.to_datetime(df['date'])"
   ]
  },
  {
   "cell_type": "code",
   "execution_count": 24,
   "id": "0bfcdb30",
   "metadata": {
    "execution": {
     "iopub.execute_input": "2023-10-16T17:30:41.261943Z",
     "iopub.status.busy": "2023-10-16T17:30:41.261575Z",
     "iopub.status.idle": "2023-10-16T17:30:41.686249Z",
     "shell.execute_reply": "2023-10-16T17:30:41.685452Z"
    },
    "papermill": {
     "duration": 0.440033,
     "end_time": "2023-10-16T17:30:41.688023",
     "exception": false,
     "start_time": "2023-10-16T17:30:41.247990",
     "status": "completed"
    },
    "tags": []
   },
   "outputs": [
    {
     "data": {
      "image/png": "[encoded data removed]",
      "text/plain": [
       "<Figure size 2000x500 with 1 Axes>"
      ]
     },
     "metadata": {},
     "output_type": "display_data"
    }
   ],
   "source": [
    "question6='''\n",
    "# Sort the DataFrame by date (optional but recommended)\n",
    "df = df.sort_values(by='date')\n",
    "\n",
    "# Create the time series plot\n",
    "plt.figure(figsize=(20, 5))\n",
    "plt.plot(df['date'], df['order_id'], marker='o', linestyle='-')\n",
    "plt.title('Time Series Plot of Orders by Date')\n",
    "plt.xlabel('Date')\n",
    "plt.ylabel('Number of Orders')\n",
    "plt.grid(True)\n",
    "\n",
    "# Format date labels on the x-axis (optional)\n",
    "plt.xticks(rotation=45)\n",
    "\n",
    "# Display the plot\n",
    "plt.show()\n",
    "'''\n",
    "exec(question6)"
   ]
  },
  {
   "cell_type": "markdown",
   "id": "0b79fb38",
   "metadata": {
    "papermill": {
     "duration": 0.012496,
     "end_time": "2023-10-16T17:30:41.713525",
     "exception": false,
     "start_time": "2023-10-16T17:30:41.701029",
     "status": "completed"
    },
    "tags": []
   },
   "source": [
    "## Question 7"
   ]
  },
  {
   "cell_type": "code",
   "execution_count": 25,
   "id": "34cf52e9",
   "metadata": {
    "execution": {
     "iopub.execute_input": "2023-10-16T17:30:41.741404Z",
     "iopub.status.busy": "2023-10-16T17:30:41.740758Z",
     "iopub.status.idle": "2023-10-16T17:30:42.214404Z",
     "shell.execute_reply": "2023-10-16T17:30:42.213299Z"
    },
    "papermill": {
     "duration": 0.490845,
     "end_time": "2023-10-16T17:30:42.217302",
     "exception": false,
     "start_time": "2023-10-16T17:30:41.726457",
     "status": "completed"
    },
    "tags": []
   },
   "outputs": [
    {
     "data": {
      "image/png": "[encoded data removed]",
      "text/plain": [
       "<Figure size 1200x600 with 1 Axes>"
      ]
     },
     "metadata": {},
     "output_type": "display_data"
    }
   ],
   "source": [
    "question7='''\n",
    "# Extract the quarter from the 'date' column\n",
    "df['quarter'] = df['date'].dt.quarter\n",
    "\n",
    "# Sort the DataFrame by date (optional but recommended)\n",
    "df = df.sort_values(by='date')\n",
    "\n",
    "# Create time series plots for each quarter\n",
    "quarters = df['quarter'].unique()\n",
    "\n",
    "plt.figure(figsize=(12, 6))\n",
    "\n",
    "for quarter in quarters:\n",
    "    subset = df[df['quarter'] == quarter]\n",
    "    plt.plot(subset['date'], subset['order_id'], marker='o', linestyle='-', label=f'Quarter {quarter}')\n",
    "\n",
    "plt.title('Time Series Plot by Quarter')\n",
    "plt.xlabel('Date')\n",
    "plt.ylabel('Number of Orders')\n",
    "plt.grid(True)\n",
    "\n",
    "# Format date labels on the x-axis (optional)\n",
    "plt.xticks(rotation=45)\n",
    "\n",
    "# Add a legend to distinguish the lines\n",
    "plt.legend()\n",
    "\n",
    "# Display the plot\n",
    "plt.show()\n",
    "'''\n",
    "exec(question7)"
   ]
  },
  {
   "cell_type": "markdown",
   "id": "9327416b",
   "metadata": {
    "papermill": {
     "duration": 0.017728,
     "end_time": "2023-10-16T17:30:42.251186",
     "exception": false,
     "start_time": "2023-10-16T17:30:42.233458",
     "status": "completed"
    },
    "tags": []
   },
   "source": [
    "# Model Training"
   ]
  },
  {
   "cell_type": "code",
   "execution_count": 26,
   "id": "740295af",
   "metadata": {
    "execution": {
     "iopub.execute_input": "2023-10-16T17:30:42.283071Z",
     "iopub.status.busy": "2023-10-16T17:30:42.282465Z",
     "iopub.status.idle": "2023-10-16T17:30:42.289074Z",
     "shell.execute_reply": "2023-10-16T17:30:42.288249Z"
    },
    "papermill": {
     "duration": 0.023917,
     "end_time": "2023-10-16T17:30:42.290958",
     "exception": false,
     "start_time": "2023-10-16T17:30:42.267041",
     "status": "completed"
    },
    "tags": []
   },
   "outputs": [
    {
     "data": {
      "text/plain": [
       "order_id                     int64\n",
       "date                datetime64[ns]\n",
       "time                        object\n",
       "order_details_id             int64\n",
       "pizza_id                    object\n",
       "quantity                     int64\n",
       "pizza_type_id               object\n",
       "size                        object\n",
       "price                      float64\n",
       "name                        object\n",
       "category                    object\n",
       "ingredients                 object\n",
       "is_non_veg                    bool\n",
       "quarter                      int32\n",
       "dtype: object"
      ]
     },
     "execution_count": 26,
     "metadata": {},
     "output_type": "execute_result"
    }
   ],
   "source": [
    "df.dtypes"
   ]
  },
  {
   "cell_type": "code",
   "execution_count": 27,
   "id": "ebf73399",
   "metadata": {
    "execution": {
     "iopub.execute_input": "2023-10-16T17:30:42.321155Z",
     "iopub.status.busy": "2023-10-16T17:30:42.320497Z",
     "iopub.status.idle": "2023-10-16T17:30:42.810629Z",
     "shell.execute_reply": "2023-10-16T17:30:42.809508Z"
    },
    "papermill": {
     "duration": 0.507796,
     "end_time": "2023-10-16T17:30:42.812938",
     "exception": false,
     "start_time": "2023-10-16T17:30:42.305142",
     "status": "completed"
    },
    "tags": []
   },
   "outputs": [],
   "source": [
    "import pandas as pd\n",
    "from sklearn.model_selection import train_test_split\n",
    "from sklearn.linear_model import LinearRegression\n",
    "from sklearn.metrics import mean_squared_error\n",
    "import numpy as np\n",
    "from sklearn.preprocessing import LabelEncoder\n",
    "\n",
    "\n",
    "# Encode categorical variables using Label Encoding\n",
    "label_encoder = LabelEncoder()\n",
    "\n",
    "# Encode categorical columns and replace them with numeric labels\n",
    "categorical_columns = df.select_dtypes(include=['object']).columns\n",
    "for col in categorical_columns:\n",
    "    df[col] = label_encoder.fit_transform(df[col])\n",
    "\n",
    "# Convert the 'date' column to datetime format\n",
    "df['date'] = pd.to_datetime(df['date'])\n",
    "\n",
    "# Extract datetime features from the 'date' column\n",
    "df['year'] = df['date'].dt.year\n",
    "df['month'] = df['date'].dt.month\n",
    "df['day'] = df['date'].dt.day\n",
    "df['hour'] = df['date'].dt.hour\n",
    "\n"
   ]
  },
  {
   "cell_type": "code",
   "execution_count": 28,
   "id": "93eb8f29",
   "metadata": {
    "execution": {
     "iopub.execute_input": "2023-10-16T17:30:42.843130Z",
     "iopub.status.busy": "2023-10-16T17:30:42.842380Z",
     "iopub.status.idle": "2023-10-16T17:30:54.253509Z",
     "shell.execute_reply": "2023-10-16T17:30:54.252061Z"
    },
    "papermill": {
     "duration": 11.430783,
     "end_time": "2023-10-16T17:30:54.257817",
     "exception": false,
     "start_time": "2023-10-16T17:30:42.827034",
     "status": "completed"
    },
    "tags": []
   },
   "outputs": [
    {
     "name": "stdout",
     "output_type": "stream",
     "text": [
      "Model: Linear Regression\n",
      "Root Mean Squared Error (RMSE): 2.10033626233971\n",
      "R-squared (R2): 0.666035722332581\n",
      "==============================\n",
      "Model: Decision Tree Regression\n",
      "Root Mean Squared Error (RMSE): 5.755127143710769e-14\n",
      "R-squared (R2): 1.0\n",
      "==============================\n",
      "Model: Random Forest Regression\n",
      "Root Mean Squared Error (RMSE): 1.5554874509296278e-14\n",
      "R-squared (R2): 1.0\n",
      "==============================\n",
      "Model: Gradient Boosting Regression\n",
      "Root Mean Squared Error (RMSE): 0.17169662888076248\n",
      "R-squared (R2): 0.9977682482161049\n",
      "==============================\n",
      "Model: K-Nearest Neighbors Regression\n",
      "Root Mean Squared Error (RMSE): 3.7508340934443676\n",
      "R-squared (R2): -0.06506978394998408\n",
      "==============================\n",
      "Model: Ridge Regression\n",
      "Root Mean Squared Error (RMSE): 2.1003375848717036\n",
      "R-squared (R2): 0.6660353017536587\n",
      "==============================\n",
      "Model: Lasso Regression\n",
      "Root Mean Squared Error (RMSE): 2.101709099372787\n",
      "R-squared (R2): 0.6655990033429966\n",
      "==============================\n"
     ]
    },
    {
     "name": "stderr",
     "output_type": "stream",
     "text": [
      "/opt/conda/lib/python3.10/site-packages/sklearn/linear_model/_coordinate_descent.py:631: ConvergenceWarning: Objective did not converge. You might want to increase the number of iterations, check the scale of the features or consider increasing regularisation. Duality gap: 4.066e+02, tolerance: 5.093e+01\n",
      "  model = cd_fast.enet_coordinate_descent(\n"
     ]
    }
   ],
   "source": [
    "import pandas as pd\n",
    "from sklearn.model_selection import train_test_split\n",
    "from sklearn.linear_model import LinearRegression, Ridge, Lasso\n",
    "from sklearn.tree import DecisionTreeRegressor\n",
    "from sklearn.ensemble import RandomForestRegressor\n",
    "from sklearn.ensemble import GradientBoostingRegressor\n",
    "from sklearn.neighbors import KNeighborsRegressor\n",
    "from sklearn.svm import SVR\n",
    "from sklearn.metrics import mean_squared_error, r2_score\n",
    "\n",
    "models = {\n",
    "    'Linear Regression': LinearRegression(),\n",
    "    'Decision Tree Regression': DecisionTreeRegressor(),\n",
    "    'Random Forest Regression': RandomForestRegressor(n_estimators=100),\n",
    "    'Gradient Boosting Regression': GradientBoostingRegressor(),\n",
    "    'K-Nearest Neighbors Regression': KNeighborsRegressor(),\n",
    "    'Ridge Regression': Ridge(alpha=1.0),\n",
    "    'Lasso Regression': Lasso(alpha=0.01)\n",
    "}\n",
    "\n",
    "# Select features (independent variables) and the target (dependent variable)\n",
    "X = df[['quantity', 'is_non_veg', 'year', 'month', 'day', 'hour'] + list(categorical_columns)]  # Features\n",
    "y = df['price']  # Target\n",
    "\n",
    "# Split the data into training and testing sets\n",
    "X_train, X_test, y_train, y_test = train_test_split(X, y, test_size=0.2, random_state=42)\n",
    "\n",
    "for model_name, model in models.items():\n",
    "    # Fit the model to the training data\n",
    "    model.fit(X_train, y_train)\n",
    "\n",
    "    # Make predictions on the test data\n",
    "    y_pred = model.predict(X_test)\n",
    "\n",
    "    # Calculate evaluation metrics\n",
    "    mse = mean_squared_error(y_test, y_pred)\n",
    "    rmse = np.sqrt(mse)\n",
    "    r2 = r2_score(y_test, y_pred)\n",
    "\n",
    "    print(f\"Model: {model_name}\")\n",
    "    print(f\"Root Mean Squared Error (RMSE): {rmse}\")\n",
    "    print(f\"R-squared (R2): {r2}\")\n",
    "    print(\"=\" * 30)\n"
   ]
  },
  {
   "cell_type": "markdown",
   "id": "e915e8c9",
   "metadata": {
    "papermill": {
     "duration": 0.033928,
     "end_time": "2023-10-16T17:30:54.367261",
     "exception": false,
     "start_time": "2023-10-16T17:30:54.333333",
     "status": "completed"
    },
    "tags": []
   },
   "source": [
    "# HyperparameterTuning Gradient Boosting Regressor"
   ]
  },
  {
   "cell_type": "code",
   "execution_count": 29,
   "id": "f6bc9041",
   "metadata": {
    "execution": {
     "iopub.execute_input": "2023-10-16T17:30:54.397574Z",
     "iopub.status.busy": "2023-10-16T17:30:54.397212Z",
     "iopub.status.idle": "2023-10-16T17:39:33.041810Z",
     "shell.execute_reply": "2023-10-16T17:39:33.040172Z"
    },
    "papermill": {
     "duration": 518.662829,
     "end_time": "2023-10-16T17:39:33.044390",
     "exception": false,
     "start_time": "2023-10-16T17:30:54.381561",
     "status": "completed"
    },
    "tags": []
   },
   "outputs": [
    {
     "name": "stdout",
     "output_type": "stream",
     "text": [
      "Fitting 5 folds for each of 27 candidates, totalling 135 fits\n",
      "Best Hyperparameters: {'learning_rate': 0.2, 'max_depth': 5, 'n_estimators': 300}\n",
      "Optimized Gradient Boosting Regressor:\n",
      "Root Mean Squared Error (RMSE): 6.768514324474185e-07\n",
      "R-squared (R2): 0.9999999999999654\n"
     ]
    }
   ],
   "source": [
    "import pandas as pd\n",
    "from sklearn.model_selection import train_test_split\n",
    "from sklearn.ensemble import GradientBoostingRegressor\n",
    "from sklearn.metrics import mean_squared_error, r2_score\n",
    "from sklearn.model_selection import GridSearchCV\n",
    "\n",
    "# Select features (independent variables) and the target (dependent variable)\n",
    "X = df[['quantity', 'is_non_veg', 'year', 'month', 'day', 'hour'] + list(categorical_columns)]  # Features\n",
    "y = df['price']  # Target\n",
    "\n",
    "# Split the data into training and testing sets\n",
    "X_train, X_test, y_train, y_test = train_test_split(X, y, test_size=0.2, random_state=42)\n",
    "\n",
    "# Define the parameter grid for Grid Search\n",
    "param_grid = {\n",
    "    'n_estimators': [100, 200, 300],  # You can specify a range of values for each parameter\n",
    "    'learning_rate': [0.01, 0.1, 0.2],\n",
    "    'max_depth': [3, 4, 5]\n",
    "}\n",
    "\n",
    "# Create the Grid Search object\n",
    "grid_search = GridSearchCV(\n",
    "    GradientBoostingRegressor(),\n",
    "    param_grid,\n",
    "    cv=5,  # Number of cross-validation folds\n",
    "    scoring='neg_mean_squared_error',  # Optimization metric (negative MSE)\n",
    "    verbose=2,  # Print detailed progress\n",
    "    n_jobs=-1  # Use all available CPU cores\n",
    ")\n",
    "\n",
    "# Fit the Grid Search to the training data\n",
    "grid_search.fit(X_train, y_train)\n",
    "\n",
    "# Get the best hyperparameters found by Grid Search\n",
    "best_params = grid_search.best_params_\n",
    "print(f\"Best Hyperparameters: {best_params}\")\n",
    "\n",
    "# Use the best hyperparameters to create and train the model\n",
    "best_model = GradientBoostingRegressor(**best_params)\n",
    "best_model.fit(X_train, y_train)\n",
    "\n",
    "# Make predictions on the test data\n",
    "y_pred = best_model.predict(X_test)\n",
    "\n",
    "# Calculate evaluation metrics\n",
    "mse = mean_squared_error(y_test, y_pred)\n",
    "rmse = np.sqrt(mse)\n",
    "r2 = r2_score(y_test, y_pred)\n",
    "\n",
    "print(\"Optimized Gradient Boosting Regressor:\")\n",
    "print(f\"Root Mean Squared Error (RMSE): {rmse}\")\n",
    "print(f\"R-squared (R2): {r2}\")\n"
   ]
  },
  {
   "cell_type": "code",
   "execution_count": 30,
   "id": "6562250e",
   "metadata": {
    "execution": {
     "iopub.execute_input": "2023-10-16T17:39:33.077360Z",
     "iopub.status.busy": "2023-10-16T17:39:33.076191Z",
     "iopub.status.idle": "2023-10-16T17:39:33.093037Z",
     "shell.execute_reply": "2023-10-16T17:39:33.092340Z"
    },
    "papermill": {
     "duration": 0.035461,
     "end_time": "2023-10-16T17:39:33.094841",
     "exception": false,
     "start_time": "2023-10-16T17:39:33.059380",
     "status": "completed"
    },
    "tags": []
   },
   "outputs": [
    {
     "data": {
      "text/html": [
       "<div>\n",
       "<style scoped>\n",
       "    .dataframe tbody tr th:only-of-type {\n",
       "        vertical-align: middle;\n",
       "    }\n",
       "\n",
       "    .dataframe tbody tr th {\n",
       "        vertical-align: top;\n",
       "    }\n",
       "\n",
       "    .dataframe thead th {\n",
       "        text-align: right;\n",
       "    }\n",
       "</style>\n",
       "<table border=\"1\" class=\"dataframe\">\n",
       "  <thead>\n",
       "    <tr style=\"text-align: right;\">\n",
       "      <th></th>\n",
       "      <th>quantity</th>\n",
       "      <th>is_non_veg</th>\n",
       "      <th>year</th>\n",
       "      <th>month</th>\n",
       "      <th>day</th>\n",
       "      <th>hour</th>\n",
       "      <th>time</th>\n",
       "      <th>pizza_id</th>\n",
       "      <th>pizza_type_id</th>\n",
       "      <th>size</th>\n",
       "      <th>name</th>\n",
       "      <th>category</th>\n",
       "      <th>ingredients</th>\n",
       "    </tr>\n",
       "  </thead>\n",
       "  <tbody>\n",
       "    <tr>\n",
       "      <th>30375</th>\n",
       "      <td>1</td>\n",
       "      <td>True</td>\n",
       "      <td>2015</td>\n",
       "      <td>11</td>\n",
       "      <td>15</td>\n",
       "      <td>0</td>\n",
       "      <td>4006</td>\n",
       "      <td>51</td>\n",
       "      <td>19</td>\n",
       "      <td>1</td>\n",
       "      <td>20</td>\n",
       "      <td>1</td>\n",
       "      <td>15</td>\n",
       "    </tr>\n",
       "  </tbody>\n",
       "</table>\n",
       "</div>"
      ],
      "text/plain": [
       "       quantity  is_non_veg  year  month  day  hour  time  pizza_id  \\\n",
       "30375         1        True  2015     11   15     0  4006        51   \n",
       "\n",
       "       pizza_type_id  size  name  category  ingredients  \n",
       "30375             19     1    20         1           15  "
      ]
     },
     "execution_count": 30,
     "metadata": {},
     "output_type": "execute_result"
    }
   ],
   "source": [
    "\n",
    "# Select a single sample from X_test, e.g., the first sample (you can change the index)\n",
    "single_sample = X_test.iloc[0:1]\n",
    "\n",
    "# Make predictions on the single sample\n",
    "y_pred_single = best_model.predict(single_sample)\n",
    "\n",
    "# Get the actual target value from y_test for the single sample\n",
    "y_actual_single = y_test.iloc[0:1]\n",
    "\n",
    "# Calculate evaluation metrics for the single prediction\n",
    "mse_single = mean_squared_error(y_actual_single, y_pred_single)\n",
    "rmse_single = np.sqrt(mse_single)\n",
    "\n",
    "single_sample\n"
   ]
  },
  {
   "cell_type": "code",
   "execution_count": 31,
   "id": "47c07835",
   "metadata": {
    "execution": {
     "iopub.execute_input": "2023-10-16T17:39:33.125859Z",
     "iopub.status.busy": "2023-10-16T17:39:33.125485Z",
     "iopub.status.idle": "2023-10-16T17:39:33.130804Z",
     "shell.execute_reply": "2023-10-16T17:39:33.130092Z"
    },
    "papermill": {
     "duration": 0.02265,
     "end_time": "2023-10-16T17:39:33.132507",
     "exception": false,
     "start_time": "2023-10-16T17:39:33.109857",
     "status": "completed"
    },
    "tags": []
   },
   "outputs": [
    {
     "name": "stdout",
     "output_type": "stream",
     "text": [
      "12.5\n"
     ]
    }
   ],
   "source": [
    "print(round(y_pred_single[0],1))"
   ]
  },
  {
   "cell_type": "code",
   "execution_count": null,
   "id": "e6e52957",
   "metadata": {
    "papermill": {
     "duration": 0.014547,
     "end_time": "2023-10-16T17:39:33.163130",
     "exception": false,
     "start_time": "2023-10-16T17:39:33.148583",
     "status": "completed"
    },
    "tags": []
   },
   "outputs": [],
   "source": []
  }
 ],
 "metadata": {
  "kernelspec": {
   "display_name": "Python 3",
   "language": "python",
   "name": "python3"
  },
  "language_info": {
   "codemirror_mode": {
    "name": "ipython",
    "version": 3
   },
   "file_extension": ".py",
   "mimetype": "text/x-python",
   "name": "python",
   "nbconvert_exporter": "python",
   "pygments_lexer": "ipython3",
   "version": "3.10.12"
  },
  "papermill": {
   "default_parameters": {},
   "duration": 542.078131,
   "end_time": "2023-10-16T17:39:35.800093",
   "environment_variables": {},
   "exception": null,
   "input_path": "__notebook__.ipynb",
   "output_path": "__notebook__.ipynb",
   "parameters": {},
   "start_time": "2023-10-16T17:30:33.721962",
   "version": "2.4.0"
  }
 },
 "nbformat": 4,
 "nbformat_minor": 5
}
