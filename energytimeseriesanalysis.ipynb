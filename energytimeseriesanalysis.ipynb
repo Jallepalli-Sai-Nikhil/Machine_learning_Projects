{
 "cells": [
  {
   "cell_type": "code",
   "execution_count": 1,
   "id": "a2b22aa6",
   "metadata": {
    "execution": {
     "iopub.execute_input": "2023-09-18T08:17:18.076731Z",
     "iopub.status.busy": "2023-09-18T08:17:18.076200Z",
     "iopub.status.idle": "2023-09-18T08:17:18.171890Z",
     "shell.execute_reply": "2023-09-18T08:17:18.170084Z"
    },
    "papermill": {
     "duration": 0.115597,
     "end_time": "2023-09-18T08:17:18.175382",
     "exception": true,
     "start_time": "2023-09-18T08:17:18.059785",
     "status": "failed"
    },
    "tags": []
   },
   "outputs": [
    {
     "ename": "NameError",
     "evalue": "name 'os' is not defined",
     "output_type": "error",
     "traceback": [
      "\u001b[0;31m---------------------------------------------------------------------------\u001b[0m",
      "\u001b[0;31mNameError\u001b[0m                                 Traceback (most recent call last)",
      "\u001b[0;32m/tmp/ipykernel_19/3516079867.py\u001b[0m in \u001b[0;36m<module>\u001b[0;34m\u001b[0m\n\u001b[1;32m      1\u001b[0m \u001b[0mres\u001b[0m \u001b[0;34m=\u001b[0m \u001b[0;34m[\u001b[0m\u001b[0;34m]\u001b[0m\u001b[0;34m\u001b[0m\u001b[0;34m\u001b[0m\u001b[0m\n\u001b[0;32m----> 2\u001b[0;31m \u001b[0;32mfor\u001b[0m \u001b[0mdirname\u001b[0m\u001b[0;34m,\u001b[0m\u001b[0m_\u001b[0m\u001b[0;34m,\u001b[0m\u001b[0mfilenames\u001b[0m \u001b[0;32min\u001b[0m \u001b[0mos\u001b[0m\u001b[0;34m.\u001b[0m\u001b[0mwalk\u001b[0m\u001b[0;34m(\u001b[0m\u001b[0;34m'/kaggle/input'\u001b[0m\u001b[0;34m)\u001b[0m\u001b[0;34m:\u001b[0m\u001b[0;34m\u001b[0m\u001b[0;34m\u001b[0m\u001b[0m\n\u001b[0m\u001b[1;32m      3\u001b[0m     \u001b[0;32mfor\u001b[0m \u001b[0mfilename\u001b[0m \u001b[0;32min\u001b[0m \u001b[0mfilenames\u001b[0m\u001b[0;34m:\u001b[0m\u001b[0;34m\u001b[0m\u001b[0;34m\u001b[0m\u001b[0m\n\u001b[1;32m      4\u001b[0m         \u001b[0mfilepath\u001b[0m \u001b[0;34m=\u001b[0m \u001b[0mos\u001b[0m\u001b[0;34m.\u001b[0m\u001b[0mpath\u001b[0m\u001b[0;34m.\u001b[0m\u001b[0mjoin\u001b[0m\u001b[0;34m(\u001b[0m\u001b[0mdirname\u001b[0m\u001b[0;34m,\u001b[0m\u001b[0mfilename\u001b[0m\u001b[0;34m)\u001b[0m\u001b[0;34m\u001b[0m\u001b[0;34m\u001b[0m\u001b[0m\n\u001b[1;32m      5\u001b[0m         \u001b[0mprint\u001b[0m\u001b[0;34m(\u001b[0m\u001b[0mfilepath\u001b[0m\u001b[0;34m)\u001b[0m\u001b[0;34m\u001b[0m\u001b[0;34m\u001b[0m\u001b[0m\n",
      "\u001b[0;31mNameError\u001b[0m: name 'os' is not defined"
     ]
    }
   ],
   "source": [
    "\n",
    "res = []\n",
    "for dirname,_,filenames in os.walk('/kaggle/input'):\n",
    "    for filename in filenames:\n",
    "        filepath = os.path.join(dirname,filename)\n",
    "        print(filepath)\n",
    "        res.append(\n",
    "            pd.read_csv(\n",
    "                filepath,\n",
    "                names=['id','date','time','consumption'],\n",
    "                parse_dates= {'datetime':['date','time']},\n",
    "                index_col='id',\n",
    "                header=0,\n",
    "                date_parser=lambda x,y: pd.to_datetime(x+' '+y,format='%d %b %Y %H:%M:%S')\n",
    "            )\n",
    "        )"
   ]
  },
  {
   "cell_type": "code",
   "execution_count": null,
   "id": "9052d75d",
   "metadata": {
    "execution": {
     "iopub.execute_input": "2023-09-18T07:29:38.545226Z",
     "iopub.status.busy": "2023-09-18T07:29:38.544714Z",
     "iopub.status.idle": "2023-09-18T07:29:38.557174Z",
     "shell.execute_reply": "2023-09-18T07:29:38.555680Z",
     "shell.execute_reply.started": "2023-09-18T07:29:38.545170Z"
    },
    "papermill": {
     "duration": null,
     "end_time": null,
     "exception": null,
     "start_time": null,
     "status": "pending"
    },
    "tags": []
   },
   "outputs": [],
   "source": [
    "df = pd.concat(res,ignore_index=True).sort_values('datetime')"
   ]
  },
  {
   "cell_type": "code",
   "execution_count": null,
   "id": "b18fa64f",
   "metadata": {
    "execution": {
     "iopub.execute_input": "2023-09-18T07:29:38.562167Z",
     "iopub.status.busy": "2023-09-18T07:29:38.561365Z",
     "iopub.status.idle": "2023-09-18T07:29:38.591244Z",
     "shell.execute_reply": "2023-09-18T07:29:38.589782Z",
     "shell.execute_reply.started": "2023-09-18T07:29:38.562111Z"
    },
    "papermill": {
     "duration": null,
     "end_time": null,
     "exception": null,
     "start_time": null,
     "status": "pending"
    },
    "tags": []
   },
   "outputs": [],
   "source": [
    "df.head()"
   ]
  },
  {
   "cell_type": "code",
   "execution_count": null,
   "id": "71d4933c",
   "metadata": {
    "execution": {
     "iopub.execute_input": "2023-09-18T07:29:38.593519Z",
     "iopub.status.busy": "2023-09-18T07:29:38.593152Z",
     "iopub.status.idle": "2023-09-18T07:29:38.602023Z",
     "shell.execute_reply": "2023-09-18T07:29:38.600866Z",
     "shell.execute_reply.started": "2023-09-18T07:29:38.593482Z"
    },
    "papermill": {
     "duration": null,
     "end_time": null,
     "exception": null,
     "start_time": null,
     "status": "pending"
    },
    "tags": []
   },
   "outputs": [],
   "source": [
    "print(f\"min date: {df['datetime'].min()}, max date: {df['datetime'].max()}\")\n",
    "print(f\"range: {df['datetime'].max()-df['datetime'].min()}\")"
   ]
  },
  {
   "cell_type": "code",
   "execution_count": null,
   "id": "c046f47f",
   "metadata": {
    "execution": {
     "iopub.execute_input": "2023-09-18T07:29:38.604093Z",
     "iopub.status.busy": "2023-09-18T07:29:38.603663Z",
     "iopub.status.idle": "2023-09-18T07:29:38.633336Z",
     "shell.execute_reply": "2023-09-18T07:29:38.632112Z",
     "shell.execute_reply.started": "2023-09-18T07:29:38.604058Z"
    },
    "papermill": {
     "duration": null,
     "end_time": null,
     "exception": null,
     "start_time": null,
     "status": "pending"
    },
    "tags": []
   },
   "outputs": [],
   "source": [
    "#daily energy consumption\n",
    "df.sort_values('datetime').rolling('1D',on='datetime').sum().head()"
   ]
  },
  {
   "cell_type": "code",
   "execution_count": null,
   "id": "8022651f",
   "metadata": {
    "execution": {
     "iopub.execute_input": "2023-09-18T07:29:38.636104Z",
     "iopub.status.busy": "2023-09-18T07:29:38.635722Z",
     "iopub.status.idle": "2023-09-18T07:29:39.229856Z",
     "shell.execute_reply": "2023-09-18T07:29:39.228035Z",
     "shell.execute_reply.started": "2023-09-18T07:29:38.636068Z"
    },
    "papermill": {
     "duration": null,
     "end_time": null,
     "exception": null,
     "start_time": null,
     "status": "pending"
    },
    "tags": []
   },
   "outputs": [],
   "source": [
    "import matplotlib.pyplot as plt\n",
    "df.rolling('1H',on='datetime').sum().loc[df['consumption']>0.5].plot(x='datetime',y='consumption',title=\"Hourly energy consumption\",figsize=(20,6))"
   ]
  },
  {
   "cell_type": "code",
   "execution_count": null,
   "id": "477d5051",
   "metadata": {
    "execution": {
     "iopub.execute_input": "2023-09-18T07:29:39.231902Z",
     "iopub.status.busy": "2023-09-18T07:29:39.231392Z",
     "iopub.status.idle": "2023-09-18T07:29:39.263173Z",
     "shell.execute_reply": "2023-09-18T07:29:39.261764Z",
     "shell.execute_reply.started": "2023-09-18T07:29:39.231848Z"
    },
    "papermill": {
     "duration": null,
     "end_time": null,
     "exception": null,
     "start_time": null,
     "status": "pending"
    },
    "tags": []
   },
   "outputs": [],
   "source": [
    "# Monthly total consumption and daily average consumption for a month\n",
    "daily_cons = df.rolling('1d',on='datetime').sum()\n",
    "daily_cons.groupby(daily_cons['datetime'].dt.month)['consumption'].apply(lambda x: {'sum':x.sum(),'average':x.mean(),'count':x.count()})"
   ]
  },
  {
   "cell_type": "code",
   "execution_count": null,
   "id": "75db2e78",
   "metadata": {
    "execution": {
     "iopub.execute_input": "2023-09-18T07:29:39.271070Z",
     "iopub.status.busy": "2023-09-18T07:29:39.268235Z",
     "iopub.status.idle": "2023-09-18T07:29:39.633149Z",
     "shell.execute_reply": "2023-09-18T07:29:39.631761Z",
     "shell.execute_reply.started": "2023-09-18T07:29:39.271012Z"
    },
    "papermill": {
     "duration": null,
     "end_time": null,
     "exception": null,
     "start_time": null,
     "status": "pending"
    },
    "tags": []
   },
   "outputs": [],
   "source": [
    "\n",
    "\n",
    "daily_cons.plot(x='datetime',y='consumption',title=\"Daily energy consumption\",figsize=(10,6))\n",
    "plt.show()"
   ]
  },
  {
   "cell_type": "code",
   "execution_count": null,
   "id": "ccd40671",
   "metadata": {
    "execution": {
     "iopub.execute_input": "2023-09-18T07:29:39.638831Z",
     "iopub.status.busy": "2023-09-18T07:29:39.638209Z",
     "iopub.status.idle": "2023-09-18T07:29:39.657917Z",
     "shell.execute_reply": "2023-09-18T07:29:39.656595Z",
     "shell.execute_reply.started": "2023-09-18T07:29:39.638782Z"
    },
    "papermill": {
     "duration": null,
     "end_time": null,
     "exception": null,
     "start_time": null,
     "status": "pending"
    },
    "tags": []
   },
   "outputs": [],
   "source": [
    "daily_cons.describe()"
   ]
  },
  {
   "cell_type": "code",
   "execution_count": null,
   "id": "dc1d8185",
   "metadata": {
    "execution": {
     "iopub.execute_input": "2023-09-18T07:29:39.660797Z",
     "iopub.status.busy": "2023-09-18T07:29:39.660217Z",
     "iopub.status.idle": "2023-09-18T07:29:39.691097Z",
     "shell.execute_reply": "2023-09-18T07:29:39.689748Z",
     "shell.execute_reply.started": "2023-09-18T07:29:39.660740Z"
    },
    "papermill": {
     "duration": null,
     "end_time": null,
     "exception": null,
     "start_time": null,
     "status": "pending"
    },
    "tags": []
   },
   "outputs": [],
   "source": [
    "#Separating day and night consumption time\n",
    "\n",
    "day_consumption = df.loc[(pd.Timestamp('06:00').time()<=df['datetime'].dt.time)&(df['datetime'].dt.time<pd.Timestamp('18:00').time())&(df['consumption']>0.5)]\n",
    "night_consumption = df.loc[set(df.index)-set(day_consumption.index)].sort_values('datetime')\n",
    "night_consumption = night_consumption.loc[night_consumption['consumption']>0.5]"
   ]
  },
  {
   "cell_type": "code",
   "execution_count": null,
   "id": "d248717d",
   "metadata": {
    "execution": {
     "iopub.execute_input": "2023-09-18T07:29:39.693823Z",
     "iopub.status.busy": "2023-09-18T07:29:39.692960Z",
     "iopub.status.idle": "2023-09-18T07:29:40.229192Z",
     "shell.execute_reply": "2023-09-18T07:29:40.227726Z",
     "shell.execute_reply.started": "2023-09-18T07:29:39.693768Z"
    },
    "papermill": {
     "duration": null,
     "end_time": null,
     "exception": null,
     "start_time": null,
     "status": "pending"
    },
    "tags": []
   },
   "outputs": [],
   "source": [
    "fig,ax= plt.subplots(1,1,figsize=(20,6))\n",
    "day_hourly_cons = day_consumption.rolling('1H',on='datetime').sum()\n",
    "night_hourly_cons = night_consumption.rolling('1H',on='datetime').sum()\n",
    "ax.plot(day_hourly_cons['datetime'],day_hourly_cons['consumption'],'r-',label='Day Consumption')\n",
    "ax.plot(night_hourly_cons['datetime'],night_hourly_cons['consumption'],'b-',label='Night Consumption')\n",
    "ax.legend()\n",
    "ax.set_title(\"Hourly Energy Consumption\")\n",
    "ax.set_xlabel(\"Date\")\n",
    "ax.set_ylabel(\"Energy Consumption\")\n",
    "plt.show()"
   ]
  },
  {
   "cell_type": "code",
   "execution_count": null,
   "id": "8d3983f4",
   "metadata": {
    "execution": {
     "iopub.execute_input": "2023-09-18T07:29:40.232071Z",
     "iopub.status.busy": "2023-09-18T07:29:40.231282Z",
     "iopub.status.idle": "2023-09-18T07:29:40.246414Z",
     "shell.execute_reply": "2023-09-18T07:29:40.245040Z",
     "shell.execute_reply.started": "2023-09-18T07:29:40.232010Z"
    },
    "papermill": {
     "duration": null,
     "end_time": null,
     "exception": null,
     "start_time": null,
     "status": "pending"
    },
    "tags": []
   },
   "outputs": [],
   "source": [
    "daily_day_cons= day_consumption.rolling('1d',on='datetime').sum()\n",
    "daily_night_cons= night_consumption.rolling('1d',on='datetime').sum()"
   ]
  },
  {
   "cell_type": "code",
   "execution_count": null,
   "id": "8301ee4d",
   "metadata": {
    "execution": {
     "iopub.execute_input": "2023-09-18T07:29:40.249938Z",
     "iopub.status.busy": "2023-09-18T07:29:40.248379Z",
     "iopub.status.idle": "2023-09-18T07:29:40.643808Z",
     "shell.execute_reply": "2023-09-18T07:29:40.642635Z",
     "shell.execute_reply.started": "2023-09-18T07:29:40.249876Z"
    },
    "papermill": {
     "duration": null,
     "end_time": null,
     "exception": null,
     "start_time": null,
     "status": "pending"
    },
    "tags": []
   },
   "outputs": [],
   "source": [
    "fig,ax= plt.subplots(1,1,figsize=(15,7))\n",
    "\n",
    "ax.plot(daily_day_cons['datetime'],daily_day_cons['consumption'],'r-',label='Day Consumption')\n",
    "ax.plot(daily_night_cons['datetime'],daily_night_cons['consumption'],'b-',label='Night Consumption')\n",
    "ax.legend()\n",
    "ax.set_title(\"Daily Energy Consumption\")\n",
    "ax.set_xlabel(\"Date\")\n",
    "ax.set_ylabel(\"Energy Consumption\")\n",
    "plt.show()"
   ]
  },
  {
   "cell_type": "markdown",
   "id": "a0113a30",
   "metadata": {
    "papermill": {
     "duration": null,
     "end_time": null,
     "exception": null,
     "start_time": null,
     "status": "pending"
    },
    "tags": []
   },
   "source": [
    "# **TimeSeries Forecasting**"
   ]
  },
  {
   "cell_type": "code",
   "execution_count": null,
   "id": "9b6013d9",
   "metadata": {
    "execution": {
     "iopub.execute_input": "2023-09-18T07:29:40.645875Z",
     "iopub.status.busy": "2023-09-18T07:29:40.645396Z",
     "iopub.status.idle": "2023-09-18T07:29:40.675458Z",
     "shell.execute_reply": "2023-09-18T07:29:40.674446Z",
     "shell.execute_reply.started": "2023-09-18T07:29:40.645831Z"
    },
    "papermill": {
     "duration": null,
     "end_time": null,
     "exception": null,
     "start_time": null,
     "status": "pending"
    },
    "tags": []
   },
   "outputs": [],
   "source": [
    "#Aggregating to day \n",
    "\n",
    "df_copy = df.set_index('datetime').sort_index()\n",
    "df_copy = df_copy.resample('1D').sum()"
   ]
  },
  {
   "cell_type": "markdown",
   "id": "75682d99",
   "metadata": {
    "papermill": {
     "duration": null,
     "end_time": null,
     "exception": null,
     "start_time": null,
     "status": "pending"
    },
    "tags": []
   },
   "source": [
    "**Additive Decompostion**"
   ]
  },
  {
   "cell_type": "code",
   "execution_count": null,
   "id": "6e0e7db1",
   "metadata": {
    "execution": {
     "iopub.execute_input": "2023-09-18T07:29:40.677474Z",
     "iopub.status.busy": "2023-09-18T07:29:40.677054Z",
     "iopub.status.idle": "2023-09-18T07:29:42.654246Z",
     "shell.execute_reply": "2023-09-18T07:29:42.652749Z",
     "shell.execute_reply.started": "2023-09-18T07:29:40.677424Z"
    },
    "papermill": {
     "duration": null,
     "end_time": null,
     "exception": null,
     "start_time": null,
     "status": "pending"
    },
    "tags": []
   },
   "outputs": [],
   "source": [
    "#TimeSeries Additive Decomposition\n",
    "\n",
    "from statsmodels.tsa.seasonal import seasonal_decompose\n",
    "\n",
    "result = seasonal_decompose(df_copy,model='additive')\n",
    "plt.rc(\"figure\", figsize=(15,6))\n",
    "result.plot()\n",
    "plt.show()"
   ]
  },
  {
   "cell_type": "markdown",
   "id": "696bfeaf",
   "metadata": {
    "papermill": {
     "duration": null,
     "end_time": null,
     "exception": null,
     "start_time": null,
     "status": "pending"
    },
    "tags": []
   },
   "source": [
    "**Multiplicative Decomposition**"
   ]
  },
  {
   "cell_type": "code",
   "execution_count": null,
   "id": "396e5959",
   "metadata": {
    "execution": {
     "iopub.execute_input": "2023-09-18T07:29:42.656387Z",
     "iopub.status.busy": "2023-09-18T07:29:42.655915Z",
     "iopub.status.idle": "2023-09-18T07:29:43.467809Z",
     "shell.execute_reply": "2023-09-18T07:29:43.466811Z",
     "shell.execute_reply.started": "2023-09-18T07:29:42.656333Z"
    },
    "papermill": {
     "duration": null,
     "end_time": null,
     "exception": null,
     "start_time": null,
     "status": "pending"
    },
    "tags": []
   },
   "outputs": [],
   "source": [
    "#TimeSeries Multiplitive Decomposition\n",
    "\n",
    "from statsmodels.tsa.seasonal import seasonal_decompose\n",
    "\n",
    "result = seasonal_decompose(df_copy,model='multiplicative')\n",
    "plt.rc(\"figure\", figsize=(15,6))\n",
    "result.plot()\n",
    "plt.show()"
   ]
  },
  {
   "cell_type": "markdown",
   "id": "070f0981",
   "metadata": {
    "papermill": {
     "duration": null,
     "end_time": null,
     "exception": null,
     "start_time": null,
     "status": "pending"
    },
    "tags": []
   },
   "source": [
    "# AutoRegression Forecasting"
   ]
  },
  {
   "cell_type": "code",
   "execution_count": null,
   "id": "c6cc5d7f",
   "metadata": {
    "execution": {
     "iopub.execute_input": "2023-09-18T07:29:43.469965Z",
     "iopub.status.busy": "2023-09-18T07:29:43.469073Z",
     "iopub.status.idle": "2023-09-18T07:29:43.834384Z",
     "shell.execute_reply": "2023-09-18T07:29:43.832882Z",
     "shell.execute_reply.started": "2023-09-18T07:29:43.469920Z"
    },
    "papermill": {
     "duration": null,
     "end_time": null,
     "exception": null,
     "start_time": null,
     "status": "pending"
    },
    "tags": []
   },
   "outputs": [],
   "source": [
    "#AutoRegression Forecasting\n",
    "\n",
    "from statsmodels.tsa.ar_model import AutoReg\n",
    "\n",
    "model = AutoReg(df_copy,lags=15)\n",
    "model_fit = model.fit()\n",
    "\n",
    "next_one_m = model_fit.predict('2022-03-01','2022-03-31')"
   ]
  },
  {
   "cell_type": "code",
   "execution_count": null,
   "id": "a016b59d",
   "metadata": {
    "execution": {
     "iopub.execute_input": "2023-09-18T07:29:43.838151Z",
     "iopub.status.busy": "2023-09-18T07:29:43.837544Z",
     "iopub.status.idle": "2023-09-18T07:29:44.245561Z",
     "shell.execute_reply": "2023-09-18T07:29:44.244537Z",
     "shell.execute_reply.started": "2023-09-18T07:29:43.838089Z"
    },
    "papermill": {
     "duration": null,
     "end_time": null,
     "exception": null,
     "start_time": null,
     "status": "pending"
    },
    "tags": []
   },
   "outputs": [],
   "source": [
    "fig,ax= plt.subplots(1,1,figsize=(15,7))\n",
    "\n",
    "ax.plot(df_copy['consumption'],'r-',label='Daily total Consumption')\n",
    "ax.plot(next_one_m,'b-',label='Daily predicted total Consumption')\n",
    "ax.legend()\n",
    "ax.set_title(\"Daily Energy Predicted Consumption using Auto Regression\")\n",
    "ax.set_xlabel(\"Date\")\n",
    "ax.set_ylabel(\"Energy Consumption\")\n",
    "plt.show()"
   ]
  },
  {
   "cell_type": "markdown",
   "id": "dd96f688",
   "metadata": {
    "execution": {
     "iopub.execute_input": "2023-04-09T09:58:38.729177Z",
     "iopub.status.busy": "2023-04-09T09:58:38.728799Z",
     "iopub.status.idle": "2023-04-09T09:58:38.738535Z",
     "shell.execute_reply": "2023-04-09T09:58:38.736829Z",
     "shell.execute_reply.started": "2023-04-09T09:58:38.72915Z"
    },
    "papermill": {
     "duration": null,
     "end_time": null,
     "exception": null,
     "start_time": null,
     "status": "pending"
    },
    "tags": []
   },
   "source": [
    "# **Moving Average Forecasting**"
   ]
  },
  {
   "cell_type": "code",
   "execution_count": null,
   "id": "a44a734f",
   "metadata": {
    "execution": {
     "iopub.execute_input": "2023-09-18T07:29:44.247414Z",
     "iopub.status.busy": "2023-09-18T07:29:44.246828Z",
     "iopub.status.idle": "2023-09-18T07:29:44.627924Z",
     "shell.execute_reply": "2023-09-18T07:29:44.626058Z",
     "shell.execute_reply.started": "2023-09-18T07:29:44.247374Z"
    },
    "papermill": {
     "duration": null,
     "end_time": null,
     "exception": null,
     "start_time": null,
     "status": "pending"
    },
    "tags": []
   },
   "outputs": [],
   "source": [
    "from statsmodels.tsa.arima.model import ARIMA\n",
    "\n",
    "model = ARIMA(df_copy,order=(0,0,1))\n",
    "model_fit = model.fit()\n",
    "\n",
    "next_one_m = model_fit.predict('2022-03-01','2022-03-31')\n"
   ]
  },
  {
   "cell_type": "code",
   "execution_count": null,
   "id": "9d3860c6",
   "metadata": {
    "execution": {
     "iopub.execute_input": "2023-09-18T07:29:44.631889Z",
     "iopub.status.busy": "2023-09-18T07:29:44.630237Z",
     "iopub.status.idle": "2023-09-18T07:29:45.155496Z",
     "shell.execute_reply": "2023-09-18T07:29:45.154393Z",
     "shell.execute_reply.started": "2023-09-18T07:29:44.631806Z"
    },
    "papermill": {
     "duration": null,
     "end_time": null,
     "exception": null,
     "start_time": null,
     "status": "pending"
    },
    "tags": []
   },
   "outputs": [],
   "source": [
    "fig,ax= plt.subplots(1,1,figsize=(15,7))\n",
    "\n",
    "ax.plot(df_copy['consumption'],'r-',label='Daily total Consumption')\n",
    "ax.plot(next_one_m,'b-',label='Daily predicted total Consumption')\n",
    "ax.legend()\n",
    "ax.set_title(\"Daily Energy Predicted Consumption using MA\")\n",
    "ax.set_xlabel(\"Date\")\n",
    "ax.set_ylabel(\"Energy Consumption\")\n",
    "plt.show()"
   ]
  },
  {
   "cell_type": "markdown",
   "id": "32938136",
   "metadata": {
    "papermill": {
     "duration": null,
     "end_time": null,
     "exception": null,
     "start_time": null,
     "status": "pending"
    },
    "tags": []
   },
   "source": [
    "# **Autoregressive Moving Average (ARMA)**"
   ]
  },
  {
   "cell_type": "code",
   "execution_count": null,
   "id": "a34b8595",
   "metadata": {
    "execution": {
     "iopub.execute_input": "2023-09-18T07:29:45.158065Z",
     "iopub.status.busy": "2023-09-18T07:29:45.157348Z",
     "iopub.status.idle": "2023-09-18T07:29:46.356784Z",
     "shell.execute_reply": "2023-09-18T07:29:46.354933Z",
     "shell.execute_reply.started": "2023-09-18T07:29:45.158019Z"
    },
    "papermill": {
     "duration": null,
     "end_time": null,
     "exception": null,
     "start_time": null,
     "status": "pending"
    },
    "tags": []
   },
   "outputs": [],
   "source": [
    "model = ARIMA(df_copy,order=(9,0,1))\n",
    "model_fit = model.fit()\n",
    "\n",
    "next_one_m = model_fit.predict('2022-03-01','2022-03-31')"
   ]
  },
  {
   "cell_type": "code",
   "execution_count": null,
   "id": "f4d43461",
   "metadata": {
    "execution": {
     "iopub.execute_input": "2023-09-18T07:29:46.361440Z",
     "iopub.status.busy": "2023-09-18T07:29:46.359640Z",
     "iopub.status.idle": "2023-09-18T07:29:46.773206Z",
     "shell.execute_reply": "2023-09-18T07:29:46.771818Z",
     "shell.execute_reply.started": "2023-09-18T07:29:46.361346Z"
    },
    "papermill": {
     "duration": null,
     "end_time": null,
     "exception": null,
     "start_time": null,
     "status": "pending"
    },
    "tags": []
   },
   "outputs": [],
   "source": [
    "fig,ax= plt.subplots(1,1,figsize=(15,7))\n",
    "\n",
    "ax.plot(df_copy['consumption'],'r-',label='Daily total Consumption')\n",
    "ax.plot(next_one_m,'b-',label='Daily predicted total Consumption')\n",
    "ax.legend()\n",
    "ax.set_title(\"Daily Energy Predicted Consumption using ARMA\")\n",
    "ax.set_xlabel(\"Date\")\n",
    "ax.set_ylabel(\"Energy Consumption\")\n",
    "plt.show()"
   ]
  },
  {
   "cell_type": "markdown",
   "id": "2dff9881",
   "metadata": {
    "papermill": {
     "duration": null,
     "end_time": null,
     "exception": null,
     "start_time": null,
     "status": "pending"
    },
    "tags": []
   },
   "source": [
    "# **Autoregressive Integrated Moving Average (ARIMA)**"
   ]
  },
  {
   "cell_type": "code",
   "execution_count": null,
   "id": "96af6cd2",
   "metadata": {
    "execution": {
     "iopub.execute_input": "2023-09-18T07:29:46.775735Z",
     "iopub.status.busy": "2023-09-18T07:29:46.774873Z",
     "iopub.status.idle": "2023-09-18T07:29:47.972920Z",
     "shell.execute_reply": "2023-09-18T07:29:47.971011Z",
     "shell.execute_reply.started": "2023-09-18T07:29:46.775685Z"
    },
    "papermill": {
     "duration": null,
     "end_time": null,
     "exception": null,
     "start_time": null,
     "status": "pending"
    },
    "tags": []
   },
   "outputs": [],
   "source": [
    "model = ARIMA(df_copy,order=(10,1,1))\n",
    "model_fit = model.fit()\n",
    "\n",
    "next_one_m = model_fit.predict('2022-03-01','2022-03-31')"
   ]
  },
  {
   "cell_type": "code",
   "execution_count": null,
   "id": "65ccf887",
   "metadata": {
    "execution": {
     "iopub.execute_input": "2023-09-18T07:29:47.975847Z",
     "iopub.status.busy": "2023-09-18T07:29:47.975204Z",
     "iopub.status.idle": "2023-09-18T07:29:48.397167Z",
     "shell.execute_reply": "2023-09-18T07:29:48.395739Z",
     "shell.execute_reply.started": "2023-09-18T07:29:47.975780Z"
    },
    "papermill": {
     "duration": null,
     "end_time": null,
     "exception": null,
     "start_time": null,
     "status": "pending"
    },
    "tags": []
   },
   "outputs": [],
   "source": [
    "fig,ax= plt.subplots(1,1,figsize=(15,7))\n",
    "\n",
    "ax.plot(df_copy['consumption'],'r-',label='Daily total Consumption')\n",
    "ax.plot(next_one_m,'b-',label='Daily predicted total Consumption')\n",
    "ax.legend()\n",
    "ax.set_title(\"Daily Energy Predicted Consumption using ARIMA\")\n",
    "ax.set_xlabel(\"Date\")\n",
    "ax.set_ylabel(\"Energy Consumption\")\n",
    "plt.show()"
   ]
  },
  {
   "cell_type": "markdown",
   "id": "3447ccd1",
   "metadata": {
    "papermill": {
     "duration": null,
     "end_time": null,
     "exception": null,
     "start_time": null,
     "status": "pending"
    },
    "tags": []
   },
   "source": [
    "# **Seasonal Autoregressive Integrated Moving Average (SARIMA)**"
   ]
  },
  {
   "cell_type": "code",
   "execution_count": null,
   "id": "9efef1e7",
   "metadata": {
    "execution": {
     "iopub.execute_input": "2023-09-18T07:29:48.399072Z",
     "iopub.status.busy": "2023-09-18T07:29:48.398691Z",
     "iopub.status.idle": "2023-09-18T07:29:49.623880Z",
     "shell.execute_reply": "2023-09-18T07:29:49.621997Z",
     "shell.execute_reply.started": "2023-09-18T07:29:48.399025Z"
    },
    "papermill": {
     "duration": null,
     "end_time": null,
     "exception": null,
     "start_time": null,
     "status": "pending"
    },
    "tags": []
   },
   "outputs": [],
   "source": [
    "model = ARIMA(df_copy,order=(5,1,1),seasonal_order=(1,0,1,7))\n",
    "model_fit = model.fit()\n",
    "\n",
    "next_one_m = model_fit.predict('2022-03-01','2022-03-31')"
   ]
  },
  {
   "cell_type": "code",
   "execution_count": null,
   "id": "28a37c37",
   "metadata": {
    "execution": {
     "iopub.execute_input": "2023-09-18T07:29:49.627674Z",
     "iopub.status.busy": "2023-09-18T07:29:49.626032Z",
     "iopub.status.idle": "2023-09-18T07:29:50.079186Z",
     "shell.execute_reply": "2023-09-18T07:29:50.077731Z",
     "shell.execute_reply.started": "2023-09-18T07:29:49.627589Z"
    },
    "papermill": {
     "duration": null,
     "end_time": null,
     "exception": null,
     "start_time": null,
     "status": "pending"
    },
    "tags": []
   },
   "outputs": [],
   "source": [
    "fig,ax= plt.subplots(1,1,figsize=(15,7))\n",
    "\n",
    "ax.plot(df_copy['consumption'],'r-',label='Daily total Consumption')\n",
    "ax.plot(next_one_m,'b-',label='Daily predicted total Consumption')\n",
    "ax.legend()\n",
    "ax.set_title(\"Daily Energy Predicted Consumption using ARIMA\")\n",
    "ax.set_xlabel(\"Date\")\n",
    "ax.set_ylabel(\"Energy Consumption\")\n",
    "plt.show()"
   ]
  },
  {
   "cell_type": "code",
   "execution_count": null,
   "id": "3ddd8da6",
   "metadata": {
    "execution": {
     "iopub.execute_input": "2023-09-18T07:56:06.605618Z",
     "iopub.status.busy": "2023-09-18T07:56:06.605064Z",
     "iopub.status.idle": "2023-09-18T07:56:06.900456Z",
     "shell.execute_reply": "2023-09-18T07:56:06.899464Z",
     "shell.execute_reply.started": "2023-09-18T07:56:06.605571Z"
    },
    "papermill": {
     "duration": null,
     "end_time": null,
     "exception": null,
     "start_time": null,
     "status": "pending"
    },
    "tags": []
   },
   "outputs": [],
   "source": [
    "from statsmodels.graphics.tsaplots import plot_acf\n",
    "\n",
    "\n",
    "residuals = model_fit.resid\n",
    "mae = np.mean(np.abs(residuals))\n",
    "mse = np.mean(residuals**2)\n",
    "rmse = np.sqrt(mse)\n",
    "\n",
    "\n",
    "plot_acf(residuals)\n",
    "plt.show()\n"
   ]
  },
  {
   "cell_type": "code",
   "execution_count": null,
   "id": "7a79848e",
   "metadata": {
    "execution": {
     "iopub.execute_input": "2023-09-18T08:00:10.100997Z",
     "iopub.status.busy": "2023-09-18T08:00:10.100489Z",
     "iopub.status.idle": "2023-09-18T08:00:10.109124Z",
     "shell.execute_reply": "2023-09-18T08:00:10.107816Z",
     "shell.execute_reply.started": "2023-09-18T08:00:10.100953Z"
    },
    "papermill": {
     "duration": null,
     "end_time": null,
     "exception": null,
     "start_time": null,
     "status": "pending"
    },
    "tags": []
   },
   "outputs": [],
   "source": [
    "print(f\"MAE: {mae:.2f} \\nMSE: {mse:.2f} \\nRMSE: {rmse:.2f}\")\n"
   ]
  },
  {
   "cell_type": "code",
   "execution_count": null,
   "id": "c3edf1ca",
   "metadata": {
    "execution": {
     "iopub.execute_input": "2023-09-18T08:03:25.999528Z",
     "iopub.status.busy": "2023-09-18T08:03:25.998966Z",
     "iopub.status.idle": "2023-09-18T08:03:26.597236Z",
     "shell.execute_reply": "2023-09-18T08:03:26.595752Z",
     "shell.execute_reply.started": "2023-09-18T08:03:25.999480Z"
    },
    "papermill": {
     "duration": null,
     "end_time": null,
     "exception": null,
     "start_time": null,
     "status": "pending"
    },
    "tags": []
   },
   "outputs": [],
   "source": [
    "from statsmodels.graphics.tsaplots import plot_acf, plot_pacf\n",
    "\n",
    "# Plot ACF\n",
    "plt.figure(figsize=(12, 5))\n",
    "plot_acf(df['consumption'], lags=40, ax=plt.gca())\n",
    "plt.title('Autocorrelation Function (ACF)')\n",
    "plt.xlabel('Lags')\n",
    "plt.ylabel('ACF')\n",
    "plt.show()\n",
    "\n",
    "# Plot PACF\n",
    "plt.figure(figsize=(12, 5))\n",
    "plot_pacf(df['consumption'], lags=40, ax=plt.gca())\n",
    "plt.title('Partial Autocorrelation Function (PACF)')\n",
    "plt.xlabel('Lags')\n",
    "plt.ylabel('PACF')\n",
    "plt.show()\n"
   ]
  },
  {
   "cell_type": "code",
   "execution_count": null,
   "id": "ba21c2ba",
   "metadata": {
    "papermill": {
     "duration": null,
     "end_time": null,
     "exception": null,
     "start_time": null,
     "status": "pending"
    },
    "tags": []
   },
   "outputs": [],
   "source": []
  }
 ],
 "metadata": {
  "kernelspec": {
   "display_name": "Python 3",
   "language": "python",
   "name": "python3"
  },
  "language_info": {
   "codemirror_mode": {
    "name": "ipython",
    "version": 3
   },
   "file_extension": ".py",
   "mimetype": "text/x-python",
   "name": "python",
   "nbconvert_exporter": "python",
   "pygments_lexer": "ipython3",
   "version": "3.7.12"
  },
  "papermill": {
   "default_parameters": {},
   "duration": 16.563062,
   "end_time": "2023-09-18T08:17:18.915083",
   "environment_variables": {},
   "exception": true,
   "input_path": "__notebook__.ipynb",
   "output_path": "__notebook__.ipynb",
   "parameters": {},
   "start_time": "2023-09-18T08:17:02.352021",
   "version": "2.4.0"
  }
 },
 "nbformat": 4,
 "nbformat_minor": 5
}
